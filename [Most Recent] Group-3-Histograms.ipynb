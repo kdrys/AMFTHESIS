{
 "cells": [
  {
   "cell_type": "code",
   "execution_count": 1,
   "id": "c325f285",
   "metadata": {},
   "outputs": [],
   "source": [
    "import matplotlib.pyplot as plt\n",
    "import numpy as np\n",
    "import pandas as pd\n",
    "import math\n",
    "from scipy.stats import shapiro\n",
    "import os"
   ]
  },
  {
   "cell_type": "code",
   "execution_count": 2,
   "id": "98a3e2fc",
   "metadata": {},
   "outputs": [],
   "source": [
    "#read the data\n",
    "data_path1 = os.path.join(os.getcwd(), \"d4frac_returns.csv\")\n",
    "data_path2 = os.path.join(os.getcwd(), \"d5frac_returns.csv\")\n",
    "data_path3 = os.path.join(os.getcwd(), \"weights4.csv\")\n",
    "data_path4 = os.path.join(os.getcwd(), \"weights5.csv\")"
   ]
  },
  {
   "cell_type": "code",
   "execution_count": 3,
   "id": "c4c7567e",
   "metadata": {},
   "outputs": [],
   "source": [
    "d4frac = pd.read_csv(data_path1, header = None)\n",
    "d5frac = pd.read_csv(data_path2, header = None)\n",
    "weights_4 = pd.read_csv(data_path3, header = None)\n",
    "weights_5 = pd.read_csv(data_path4, header = None)"
   ]
  },
  {
   "cell_type": "code",
   "execution_count": 4,
   "id": "e21796fc",
   "metadata": {},
   "outputs": [],
   "source": [
    "weights_4 = weights_4[0].values.tolist()\n",
    "weights_5 = weights_5[0].values.tolist()"
   ]
  },
  {
   "cell_type": "code",
   "execution_count": 5,
   "id": "fce2c300",
   "metadata": {},
   "outputs": [
    {
     "data": {
      "text/html": [
       "<div>\n",
       "<style scoped>\n",
       "    .dataframe tbody tr th:only-of-type {\n",
       "        vertical-align: middle;\n",
       "    }\n",
       "\n",
       "    .dataframe tbody tr th {\n",
       "        vertical-align: top;\n",
       "    }\n",
       "\n",
       "    .dataframe thead th {\n",
       "        text-align: right;\n",
       "    }\n",
       "</style>\n",
       "<table border=\"1\" class=\"dataframe\">\n",
       "  <thead>\n",
       "    <tr style=\"text-align: right;\">\n",
       "      <th></th>\n",
       "      <th>0</th>\n",
       "    </tr>\n",
       "  </thead>\n",
       "  <tbody>\n",
       "    <tr>\n",
       "      <th>0</th>\n",
       "      <td>-0.0137</td>\n",
       "    </tr>\n",
       "    <tr>\n",
       "      <th>1</th>\n",
       "      <td>0.0244</td>\n",
       "    </tr>\n",
       "    <tr>\n",
       "      <th>2</th>\n",
       "      <td>0.0000</td>\n",
       "    </tr>\n",
       "    <tr>\n",
       "      <th>3</th>\n",
       "      <td>-0.0115</td>\n",
       "    </tr>\n",
       "    <tr>\n",
       "      <th>4</th>\n",
       "      <td>-0.0033</td>\n",
       "    </tr>\n",
       "    <tr>\n",
       "      <th>...</th>\n",
       "      <td>...</td>\n",
       "    </tr>\n",
       "    <tr>\n",
       "      <th>8766</th>\n",
       "      <td>0.0000</td>\n",
       "    </tr>\n",
       "    <tr>\n",
       "      <th>8767</th>\n",
       "      <td>0.0008</td>\n",
       "    </tr>\n",
       "    <tr>\n",
       "      <th>8768</th>\n",
       "      <td>-0.0071</td>\n",
       "    </tr>\n",
       "    <tr>\n",
       "      <th>8769</th>\n",
       "      <td>0.0356</td>\n",
       "    </tr>\n",
       "    <tr>\n",
       "      <th>8770</th>\n",
       "      <td>0.0159</td>\n",
       "    </tr>\n",
       "  </tbody>\n",
       "</table>\n",
       "<p>8771 rows × 1 columns</p>\n",
       "</div>"
      ],
      "text/plain": [
       "           0\n",
       "0    -0.0137\n",
       "1     0.0244\n",
       "2     0.0000\n",
       "3    -0.0115\n",
       "4    -0.0033\n",
       "...      ...\n",
       "8766  0.0000\n",
       "8767  0.0008\n",
       "8768 -0.0071\n",
       "8769  0.0356\n",
       "8770  0.0159\n",
       "\n",
       "[8771 rows x 1 columns]"
      ]
     },
     "execution_count": 5,
     "metadata": {},
     "output_type": "execute_result"
    }
   ],
   "source": [
    "d5frac"
   ]
  },
  {
   "cell_type": "markdown",
   "id": "9091f26d",
   "metadata": {},
   "source": [
    "## Data Exploration"
   ]
  },
  {
   "cell_type": "markdown",
   "id": "c111953e",
   "metadata": {},
   "source": [
    "### Number of Transactions"
   ]
  },
  {
   "cell_type": "code",
   "execution_count": 6,
   "id": "ceb760d4",
   "metadata": {},
   "outputs": [
    {
     "name": "stdout",
     "output_type": "stream",
     "text": [
      "19263\n",
      "8771\n"
     ]
    }
   ],
   "source": [
    "print(len(d4frac))\n",
    "print(len(d5frac))"
   ]
  },
  {
   "cell_type": "markdown",
   "id": "f4afa8ed",
   "metadata": {},
   "source": [
    "### Distribution of Returns"
   ]
  },
  {
   "cell_type": "code",
   "execution_count": 7,
   "id": "f13b17da",
   "metadata": {},
   "outputs": [
    {
     "name": "stdout",
     "output_type": "stream",
     "text": [
      "Number of positive returns (Day 4): 10800\n",
      "Number of negative returns (Day 4): 8463\n",
      "Number of positive returns (Day 5): 4661\n",
      "Number of negative returns (Day 5): 4110\n"
     ]
    }
   ],
   "source": [
    "#Filtering positive and negative returns\n",
    "\n",
    "positive_ret_4 = list(filter(lambda x: x >= 0, d4frac[0]))\n",
    "negative_ret_4 = list(filter(lambda x: x < 0, d4frac[0]))\n",
    "positive_ret_5 = list(filter(lambda x: x >= 0, d5frac[0]))\n",
    "negative_ret_5 = list(filter(lambda x: x < 0, d5frac[0]))\n",
    "\n",
    "#Distribution\n",
    "\n",
    "print(f\"Number of positive returns (Day 4): {len(positive_ret_4)}\")\n",
    "print(f\"Number of negative returns (Day 4): {len(negative_ret_4)}\")\n",
    "print(f\"Number of positive returns (Day 5): {len(positive_ret_5)}\")\n",
    "print(f\"Number of negative returns (Day 5): {len(negative_ret_5)}\")"
   ]
  },
  {
   "cell_type": "markdown",
   "id": "09a60ee9",
   "metadata": {},
   "source": [
    "### Average Return"
   ]
  },
  {
   "cell_type": "code",
   "execution_count": 8,
   "id": "8b5585cb",
   "metadata": {
    "scrolled": true
   },
   "outputs": [
    {
     "name": "stdout",
     "output_type": "stream",
     "text": [
      "Day 4 Stats:\n",
      "mean: 0.0011958365778954475\n",
      "std: 0.02389786311346583\n",
      "\n",
      "Day 5 Stats:\n",
      "mean: 0.00035286740394481806\n",
      "std: 0.02104708463002845\n"
     ]
    }
   ],
   "source": [
    "print(\"Day 4 Stats:\")\n",
    "print(f\"mean: {float(d4frac.mean())}\")\n",
    "print(f\"std: {float(d4frac.std())}\")\n",
    "print(\"\")\n",
    "\n",
    "print(\"Day 5 Stats:\")\n",
    "print(f\"mean: {float(d5frac.mean())}\")\n",
    "print(f\"std: {float(d5frac.std())}\")"
   ]
  },
  {
   "cell_type": "markdown",
   "id": "25f9a27a",
   "metadata": {},
   "source": [
    "### Average Gain and Average Loss"
   ]
  },
  {
   "cell_type": "code",
   "execution_count": 9,
   "id": "2ca278b7",
   "metadata": {},
   "outputs": [
    {
     "name": "stdout",
     "output_type": "stream",
     "text": [
      "Average Gain (Day 4): 0.01410849074074078\n",
      "Average Loss (Day 4): -0.015282559376107846\n",
      "Average Gain (Day 5): 0.013976464278051918\n",
      "Average Loss (Day 5): -0.01509715328467149\n"
     ]
    }
   ],
   "source": [
    "def Average(lst): \n",
    "    return sum(lst) / len(lst) \n",
    "\n",
    "avg_gain_4 = Average(positive_ret_4)\n",
    "avg_loss_4 = Average(negative_ret_4)\n",
    "avg_gain_5 = Average(positive_ret_5)\n",
    "avg_loss_5 = Average(negative_ret_5)\n",
    "\n",
    "print(f\"Average Gain (Day 4): {avg_gain_4}\")\n",
    "print(f\"Average Loss (Day 4): {avg_loss_4}\")\n",
    "print(f\"Average Gain (Day 5): {avg_gain_5}\")\n",
    "print(f\"Average Loss (Day 5): {avg_loss_5}\")"
   ]
  },
  {
   "cell_type": "markdown",
   "id": "e4f804da",
   "metadata": {},
   "source": [
    "## Probability of Gain and Loss"
   ]
  },
  {
   "cell_type": "code",
   "execution_count": 10,
   "id": "1dc10291",
   "metadata": {},
   "outputs": [
    {
     "name": "stdout",
     "output_type": "stream",
     "text": [
      "Probability of Gain (a stock being traded on day 4): 0.5606603332814203\n",
      "Probability of Gain (a stock being traded on day 5): 0.5314103294949265\n",
      "Probability of Loss (a stock being traded on day 4): 0.43933966671857966\n",
      "Probability of Loss (a stock being traded on day 5): 0.46858967050507355\n"
     ]
    }
   ],
   "source": [
    "prob_gain_4 = len(positive_ret_4)/len(d4frac)\n",
    "prob_loss_4 = len(negative_ret_4)/len(d4frac)\n",
    "\n",
    "prob_gain_5 = len(positive_ret_5)/len(d5frac)\n",
    "prob_loss_5 = len(negative_ret_5)/len(d5frac)\n",
    "\n",
    "print(f\"Probability of Gain (a stock being traded on day 4): {prob_gain_4}\")\n",
    "print(f\"Probability of Gain (a stock being traded on day 5): {prob_gain_5}\")\n",
    "print(f\"Probability of Loss (a stock being traded on day 4): {prob_loss_4}\")\n",
    "print(f\"Probability of Loss (a stock being traded on day 5): {prob_loss_5}\")"
   ]
  },
  {
   "cell_type": "markdown",
   "id": "26584fd0",
   "metadata": {},
   "source": [
    "## Visualization"
   ]
  },
  {
   "cell_type": "markdown",
   "id": "f583e737",
   "metadata": {},
   "source": [
    "### (A) Average "
   ]
  },
  {
   "cell_type": "markdown",
   "id": "61bbaafc",
   "metadata": {},
   "source": [
    "Considering all stocks that can be traded on days 4 and 5, respectively"
   ]
  },
  {
   "cell_type": "markdown",
   "id": "7c271afa",
   "metadata": {},
   "source": [
    "### Histograms"
   ]
  },
  {
   "cell_type": "code",
   "execution_count": 11,
   "id": "f3fbda63",
   "metadata": {},
   "outputs": [],
   "source": [
    "max_d4 = float(d4frac.max())\n",
    "min_d4 = float(d4frac.min())\n",
    "max_d5 = float(d5frac.max())\n",
    "min_d5 = float(d5frac.min())\n",
    "n = d4frac.count()\n",
    "n2 = d5frac.count() \n",
    "\n",
    "bins_d4 = (max_d4 - min_d4)/math.sqrt(n)\n",
    "\n",
    "bins_d5 = (max_d5 - min_d5)/math.sqrt(n2)"
   ]
  },
  {
   "cell_type": "code",
   "execution_count": 12,
   "id": "7c8ab792",
   "metadata": {},
   "outputs": [],
   "source": [
    "bin_num_d4 = np.arange(min_d4, max_d4  + bins_d4, bins_d4)\n",
    "\n",
    "bin_num_d5 = np.arange(min_d5, max_d5  + bins_d5, bins_d5)"
   ]
  },
  {
   "cell_type": "code",
   "execution_count": 17,
   "id": "ecf6d86a",
   "metadata": {},
   "outputs": [
    {
     "data": {
      "image/png": "[encoded data removed]",
      "text/plain": [
       "<Figure size 640x480 with 1 Axes>"
      ]
     },
     "metadata": {},
     "output_type": "display_data"
    },
    {
     "name": "stdout",
     "output_type": "stream",
     "text": [
      "Day 4 Stats:\n",
      "mean: 0.0011958365778954475\n",
      "std: 0.02389786311346583\n"
     ]
    }
   ],
   "source": [
    "# Creating the histogram using d4frac data\n",
    "bin_num_d4 = np.arange(min_d4, max_d4  + bins_d4, bins_d4)\n",
    "plt.hist(d4frac, bins=bin_num_d4, density=False, alpha=0.5, color='r', edgecolor='red')\n",
    "\n",
    "# Adding labels and title\n",
    "plt.xlabel('Fractional Returns')\n",
    "plt.ylabel('Frequency')\n",
    "# plt.title('Histogram of Fractional Returns (Day 4)')\n",
    "\n",
    "# Calculate the mean\n",
    "avg_d4 = d4frac.mean()\n",
    "\n",
    "# Highlight the mean\n",
    "plt.axvline(avg_d4.item(), color='blue', linestyle='dashed', linewidth=1)\n",
    "\n",
    "# Setting the x-axis limits\n",
    "plt.xlim(-0.2, 0.2)\n",
    "\n",
    "plt.show()\n",
    "\n",
    "#density: bool, default: False\n",
    "#If True, draw and return a probability density: each bin will display the bin's raw count divided \n",
    "#by the total number of counts and the bin width (density = counts / (sum(counts) * np.diff(bins))), \n",
    "#so that the area under the histogram integrates to 1 (np.sum(density * np.diff(bins)) == 1).\n",
    "\n",
    "print(\"Day 4 Stats:\")\n",
    "print(f\"mean: {float(d4frac.mean())}\")\n",
    "print(f\"std: {float(d4frac.std())}\")"
   ]
  },
  {
   "cell_type": "code",
   "execution_count": 20,
   "id": "84802404",
   "metadata": {
    "scrolled": false
   },
   "outputs": [
    {
     "data": {
      "image/png": "[encoded data removed]",
      "text/plain": [
       "<Figure size 640x480 with 1 Axes>"
      ]
     },
     "metadata": {},
     "output_type": "display_data"
    },
    {
     "name": "stdout",
     "output_type": "stream",
     "text": [
      "Day 5 Stats:\n",
      "mean: 0.00035286740394481806\n",
      "std: 0.02104708463002845\n"
     ]
    }
   ],
   "source": [
    "# Creating the histogram using d5frac1 data\n",
    "bin_num_d5 = np.arange(min_d5, max_d5  + bins_d5, bins_d5)\n",
    "plt.hist(d5frac, bins=bin_num_d5, density=False, alpha=0.5, color='b', edgecolor='blue')\n",
    "\n",
    "# Adding labels and title\n",
    "plt.xlabel('Fractional Returns')\n",
    "plt.ylabel('Frequency')\n",
    "# plt.title('Histogram of Fractional Returns (Day 5)')\n",
    "\n",
    "# Calculate the mean\n",
    "avg_d5 = d5frac.mean()\n",
    "\n",
    "# Highlight the mean\n",
    "plt.axvline(avg_d5.item(), color='red', linestyle='dashed', linewidth=1)\n",
    "\n",
    "\n",
    "# Setting the x-axis limits\n",
    "plt.xlim(-0.15, 0.15)\n",
    "\n",
    "plt.show()\n",
    "\n",
    "print(\"Day 5 Stats:\")\n",
    "print(f\"mean: {float(d5frac.mean())}\")\n",
    "print(f\"std: {float(d5frac.std())}\")"
   ]
  },
  {
   "cell_type": "markdown",
   "id": "3155dbf8",
   "metadata": {},
   "source": [
    "## (B) Average of the Averages"
   ]
  },
  {
   "cell_type": "markdown",
   "id": "40696168",
   "metadata": {},
   "source": [
    "Getting the average of the average fractional returns of stock i traded on day j, i = 1:10 and j = 4,5"
   ]
  },
  {
   "cell_type": "markdown",
   "id": "a91eb451-4dbd-4bf4-af32-37169c968558",
   "metadata": {},
   "source": [
    "##### Mean Fractional Returns per Meaningful Word"
   ]
  },
  {
   "cell_type": "markdown",
   "id": "07e3dcc9-a3df-4d43-bec2-040a401d3d6a",
   "metadata": {},
   "source": [
    "##### Helper Functions"
   ]
  },
  {
   "cell_type": "code",
   "execution_count": 15,
   "id": "fd5505ed-0328-4646-8d52-952ca1042ed9",
   "metadata": {},
   "outputs": [],
   "source": [
    "# Function that outputs normalized histogram of Day-4 and Day-5 returns of individual sequences\n",
    "def histogram_norm(csv_path1, csv_path2):\n",
    "    data_path1 = os.path.join(os.getcwd(), csv_path1)\n",
    "    data_path2 = os.path.join(os.getcwd(), csv_path2)\n",
    "    df1 = pd.read_csv(data_path1, header = None)\n",
    "    df2 = pd.read_csv(data_path2, header = None)\n",
    "    \n",
    "    df1_max = float(df1.max())\n",
    "    df1_min = float(df1.min())\n",
    "    df2_max = float(df2.max())\n",
    "    df2_min = float(df2.min())\n",
    "    \n",
    "    n1 = df1.count()\n",
    "    n2 = df2.count() \n",
    "    \n",
    "    df1_bins = (df1_max - df1_min)/math.sqrt(n1)\n",
    "    df2_bins = (df2_max - df2_min)/math.sqrt(n2)\n",
    "    \n",
    "    df1_binwidth = round(df1_bins,2)\n",
    "    df2_binwidth = round(df2_bins,2)\n",
    "    \n",
    "    df1_xbins = np.arange(df1_min, df1_max + df1_binwidth, df1_binwidth)\n",
    "    df2_xbins = np.arange(df2_min, df2_max + df2_binwidth, df2_binwidth)\n",
    "    \n",
    "    fig, axes = plt.subplots(nrows=2, ncols=1, figsize = (10, 10), tight_layout=True)\n",
    "    axes[0].hist(df1, bins=df1_xbins, density=True, alpha=0.5, color='r', edgecolor='red')\n",
    "    axes[0].set_xlabel('Fractional Returns')\n",
    "    axes[0].set_ylabel('Probability Density')\n",
    "    axes[0].set_title('Normalized Histogram of Day-4 Returns')\n",
    "    \n",
    "    axes[1].hist(df2, bins=df2_xbins, density=True, alpha=0.5, color='forestgreen', edgecolor='darkgreen')\n",
    "    axes[1].set_xlabel('Fractional Returns')\n",
    "    axes[1].set_ylabel('Probability Density')\n",
    "    axes[1].set_title('Normalized Histogram of Day-5 Returns')\n",
    "    \n",
    "    data = {\n",
    "    \"Fractional Return\": [\"Day 4\", \"Day 5\"],\n",
    "    \"Average Return\": [float(df1.mean()),float(df2.mean())],\n",
    "    \"Standard Deviation\": [float(df1.std()),float(df2.std())]\n",
    "    }\n",
    "\n",
    "    df = pd.DataFrame(data)\n",
    "    \n",
    "    return df"
   ]
  },
  {
   "cell_type": "code",
   "execution_count": 16,
   "id": "918a3a60-8f65-44b3-a048-77fd3a0fc218",
   "metadata": {},
   "outputs": [],
   "source": [
    "# Function that outputs (frequency) histogram of weekly Day-4 and Day-5 returns of sequences\n",
    "def histogram_weekly(csv_path1, csv_path2):\n",
    "    data_path1 = os.path.join(os.getcwd(), csv_path1)\n",
    "    data_path2 = os.path.join(os.getcwd(), csv_path2)\n",
    "    df1 = pd.read_csv(data_path1, header = None)\n",
    "    df2 = pd.read_csv(data_path2, header = None)\n",
    "    \n",
    "    df1_max = float(df1.max())\n",
    "    df1_min = float(df1.min())\n",
    "    df2_max = float(df2.max())\n",
    "    df2_min = float(df2.min())\n",
    "    \n",
    "    n1 = df1.count()\n",
    "    n2 = df2.count() \n",
    "    \n",
    "    df1_bins = (df1_max - df1_min)/math.sqrt(n1)\n",
    "    df2_bins = (df2_max - df2_min)/math.sqrt(n2)\n",
    "    \n",
    "    df1_binwidth = df1_bins\n",
    "    df2_binwidth = df2_bins\n",
    "    \n",
    "    df1_xbins = np.arange(df1_min, df1_max + df1_binwidth, df1_binwidth)\n",
    "    df2_xbins = np.arange(df2_min, df2_max + df2_binwidth, df2_binwidth)\n",
    "    \n",
    "    fig, axes = plt.subplots(nrows=2, ncols=1, figsize = (10,10), tight_layout=True)\n",
    "    axes[0].hist(df1, bins=df1_xbins, density=False, alpha=0.5, color='r', edgecolor='red')\n",
    "    axes[0].set_xlabel('Fractional Returns')\n",
    "    axes[0].set_ylabel('Frequency')\n",
    "    axes[0].set_title('Histogram of Day-4 Average Fractional Returns')\n",
    "    \n",
    "    axes[1].hist(df2, bins=df2_xbins, density=False, alpha=0.5, color='b', edgecolor='b')\n",
    "    axes[1].set_xlabel('Fractional Returns')\n",
    "    axes[1].set_ylabel('Frequency')\n",
    "    axes[1].set_title('Histogram of Day-5 Average Fractional Returns')\n",
    "    \n",
    "    data = {\n",
    "    \"Fractional Return\": [\"Day 4\", \"Day 5\"],\n",
    "    \"Weighted Average of the Average Returns\": [d4_average_weighted_mean_freturn,d5_average_weighted_mean_freturn],\n",
    "    \"Standard Deviation\": [float(df1.std()),float(df2.std())]\n",
    "    }\n",
    "\n",
    "    df = pd.DataFrame(data)\n",
    "    \n",
    "    return df"
   ]
  },
  {
   "cell_type": "code",
   "execution_count": 17,
   "id": "e608dfcd-5e58-499c-bf20-628ee99617fb",
   "metadata": {},
   "outputs": [],
   "source": [
    "# Create a list of the csv files. Use separately for day 4 and day 5.\n",
    "\n",
    "\"\"\"\n",
    "Note: Make separate folders for csv files of day-4 and day-5 fractional returns.\n",
    "Make a copy of the csv files of fractional returns and paste them in their respective folders. \n",
    "Here, D4_FReturns is the name of the folder containing all csv files for day-4 fractional returns\n",
    "\"\"\"\n",
    "\n",
    "d4_csv_files = sorted([f for f in os.listdir(os.path.join(os.getcwd(), 'D4_FReturns')) if f.endswith('.csv')], key=lambda x: int(x[6:-4]))\n",
    "d5_csv_files = sorted([f for f in os.listdir(os.path.join(os.getcwd(), 'D5_FReturns')) if f.endswith('.csv')], key=lambda x: int(x[6:-4]))\n",
    "\n",
    "\n",
    "# print(csv_files) to check content of the list"
   ]
  },
  {
   "cell_type": "code",
   "execution_count": 18,
   "id": "08d3f2a3",
   "metadata": {},
   "outputs": [],
   "source": [
    "# Function that outputs the mean fractional return where input is a csv file\n",
    "def mean_freturns(csv_path):\n",
    "    data_path = os.path.join(os.getcwd(), csv_path)\n",
    "    df = pd.read_csv(data_path, header = None)\n",
    "    mean_freturn = df.mean()\n",
    "    return mean_freturn"
   ]
  },
  {
   "cell_type": "code",
   "execution_count": 19,
   "id": "be44e736",
   "metadata": {},
   "outputs": [
    {
     "ename": "EmptyDataError",
     "evalue": "No columns to parse from file",
     "output_type": "error",
     "traceback": [
      "\u001b[0;31m---------------------------------------------------------------------------\u001b[0m",
      "\u001b[0;31mEmptyDataError\u001b[0m                            Traceback (most recent call last)",
      "Cell \u001b[0;32mIn[19], line 6\u001b[0m\n\u001b[1;32m      3\u001b[0m d4_mean_freturns \u001b[38;5;241m=\u001b[39m []\n\u001b[1;32m      5\u001b[0m \u001b[38;5;28;01mfor\u001b[39;00m csv \u001b[38;5;129;01min\u001b[39;00m d4_csv_files: \u001b[38;5;66;03m# d4_csv_files is the list of csv files of day-4 fractional returns\u001b[39;00m\n\u001b[0;32m----> 6\u001b[0m     mean_freturn \u001b[38;5;241m=\u001b[39m \u001b[38;5;28mfloat\u001b[39m(\u001b[43mmean_freturns\u001b[49m\u001b[43m(\u001b[49m\u001b[43mcsv\u001b[49m\u001b[43m)\u001b[49m\u001b[38;5;241m.\u001b[39miloc[\u001b[38;5;241m0\u001b[39m])\n\u001b[1;32m      7\u001b[0m     d4_mean_freturns\u001b[38;5;241m.\u001b[39mappend(mean_freturn)\n\u001b[1;32m      9\u001b[0m \u001b[38;5;66;03m# print(d4_mean_freturns, len(d4_mean_freturns)) to check values\u001b[39;00m\n",
      "Cell \u001b[0;32mIn[18], line 4\u001b[0m, in \u001b[0;36mmean_freturns\u001b[0;34m(csv_path)\u001b[0m\n\u001b[1;32m      2\u001b[0m \u001b[38;5;28;01mdef\u001b[39;00m \u001b[38;5;21mmean_freturns\u001b[39m(csv_path):\n\u001b[1;32m      3\u001b[0m     data_path \u001b[38;5;241m=\u001b[39m os\u001b[38;5;241m.\u001b[39mpath\u001b[38;5;241m.\u001b[39mjoin(os\u001b[38;5;241m.\u001b[39mgetcwd(), csv_path)\n\u001b[0;32m----> 4\u001b[0m     df \u001b[38;5;241m=\u001b[39m \u001b[43mpd\u001b[49m\u001b[38;5;241;43m.\u001b[39;49m\u001b[43mread_csv\u001b[49m\u001b[43m(\u001b[49m\u001b[43mdata_path\u001b[49m\u001b[43m,\u001b[49m\u001b[43m \u001b[49m\u001b[43mheader\u001b[49m\u001b[43m \u001b[49m\u001b[38;5;241;43m=\u001b[39;49m\u001b[43m \u001b[49m\u001b[38;5;28;43;01mNone\u001b[39;49;00m\u001b[43m)\u001b[49m\n\u001b[1;32m      5\u001b[0m     mean_freturn \u001b[38;5;241m=\u001b[39m df\u001b[38;5;241m.\u001b[39mmean()\n\u001b[1;32m      6\u001b[0m     \u001b[38;5;28;01mreturn\u001b[39;00m mean_freturn\n",
      "File \u001b[0;32m~/anaconda3/lib/python3.10/site-packages/pandas/util/_decorators.py:211\u001b[0m, in \u001b[0;36mdeprecate_kwarg.<locals>._deprecate_kwarg.<locals>.wrapper\u001b[0;34m(*args, **kwargs)\u001b[0m\n\u001b[1;32m    209\u001b[0m     \u001b[38;5;28;01melse\u001b[39;00m:\n\u001b[1;32m    210\u001b[0m         kwargs[new_arg_name] \u001b[38;5;241m=\u001b[39m new_arg_value\n\u001b[0;32m--> 211\u001b[0m \u001b[38;5;28;01mreturn\u001b[39;00m \u001b[43mfunc\u001b[49m\u001b[43m(\u001b[49m\u001b[38;5;241;43m*\u001b[39;49m\u001b[43margs\u001b[49m\u001b[43m,\u001b[49m\u001b[43m \u001b[49m\u001b[38;5;241;43m*\u001b[39;49m\u001b[38;5;241;43m*\u001b[39;49m\u001b[43mkwargs\u001b[49m\u001b[43m)\u001b[49m\n",
      "File \u001b[0;32m~/anaconda3/lib/python3.10/site-packages/pandas/util/_decorators.py:331\u001b[0m, in \u001b[0;36mdeprecate_nonkeyword_arguments.<locals>.decorate.<locals>.wrapper\u001b[0;34m(*args, **kwargs)\u001b[0m\n\u001b[1;32m    325\u001b[0m \u001b[38;5;28;01mif\u001b[39;00m \u001b[38;5;28mlen\u001b[39m(args) \u001b[38;5;241m>\u001b[39m num_allow_args:\n\u001b[1;32m    326\u001b[0m     warnings\u001b[38;5;241m.\u001b[39mwarn(\n\u001b[1;32m    327\u001b[0m         msg\u001b[38;5;241m.\u001b[39mformat(arguments\u001b[38;5;241m=\u001b[39m_format_argument_list(allow_args)),\n\u001b[1;32m    328\u001b[0m         \u001b[38;5;167;01mFutureWarning\u001b[39;00m,\n\u001b[1;32m    329\u001b[0m         stacklevel\u001b[38;5;241m=\u001b[39mfind_stack_level(),\n\u001b[1;32m    330\u001b[0m     )\n\u001b[0;32m--> 331\u001b[0m \u001b[38;5;28;01mreturn\u001b[39;00m \u001b[43mfunc\u001b[49m\u001b[43m(\u001b[49m\u001b[38;5;241;43m*\u001b[39;49m\u001b[43margs\u001b[49m\u001b[43m,\u001b[49m\u001b[43m \u001b[49m\u001b[38;5;241;43m*\u001b[39;49m\u001b[38;5;241;43m*\u001b[39;49m\u001b[43mkwargs\u001b[49m\u001b[43m)\u001b[49m\n",
      "File \u001b[0;32m~/anaconda3/lib/python3.10/site-packages/pandas/io/parsers/readers.py:950\u001b[0m, in \u001b[0;36mread_csv\u001b[0;34m(filepath_or_buffer, sep, delimiter, header, names, index_col, usecols, squeeze, prefix, mangle_dupe_cols, dtype, engine, converters, true_values, false_values, skipinitialspace, skiprows, skipfooter, nrows, na_values, keep_default_na, na_filter, verbose, skip_blank_lines, parse_dates, infer_datetime_format, keep_date_col, date_parser, dayfirst, cache_dates, iterator, chunksize, compression, thousands, decimal, lineterminator, quotechar, quoting, doublequote, escapechar, comment, encoding, encoding_errors, dialect, error_bad_lines, warn_bad_lines, on_bad_lines, delim_whitespace, low_memory, memory_map, float_precision, storage_options)\u001b[0m\n\u001b[1;32m    935\u001b[0m kwds_defaults \u001b[38;5;241m=\u001b[39m _refine_defaults_read(\n\u001b[1;32m    936\u001b[0m     dialect,\n\u001b[1;32m    937\u001b[0m     delimiter,\n\u001b[0;32m   (...)\u001b[0m\n\u001b[1;32m    946\u001b[0m     defaults\u001b[38;5;241m=\u001b[39m{\u001b[38;5;124m\"\u001b[39m\u001b[38;5;124mdelimiter\u001b[39m\u001b[38;5;124m\"\u001b[39m: \u001b[38;5;124m\"\u001b[39m\u001b[38;5;124m,\u001b[39m\u001b[38;5;124m\"\u001b[39m},\n\u001b[1;32m    947\u001b[0m )\n\u001b[1;32m    948\u001b[0m kwds\u001b[38;5;241m.\u001b[39mupdate(kwds_defaults)\n\u001b[0;32m--> 950\u001b[0m \u001b[38;5;28;01mreturn\u001b[39;00m \u001b[43m_read\u001b[49m\u001b[43m(\u001b[49m\u001b[43mfilepath_or_buffer\u001b[49m\u001b[43m,\u001b[49m\u001b[43m \u001b[49m\u001b[43mkwds\u001b[49m\u001b[43m)\u001b[49m\n",
      "File \u001b[0;32m~/anaconda3/lib/python3.10/site-packages/pandas/io/parsers/readers.py:605\u001b[0m, in \u001b[0;36m_read\u001b[0;34m(filepath_or_buffer, kwds)\u001b[0m\n\u001b[1;32m    602\u001b[0m _validate_names(kwds\u001b[38;5;241m.\u001b[39mget(\u001b[38;5;124m\"\u001b[39m\u001b[38;5;124mnames\u001b[39m\u001b[38;5;124m\"\u001b[39m, \u001b[38;5;28;01mNone\u001b[39;00m))\n\u001b[1;32m    604\u001b[0m \u001b[38;5;66;03m# Create the parser.\u001b[39;00m\n\u001b[0;32m--> 605\u001b[0m parser \u001b[38;5;241m=\u001b[39m \u001b[43mTextFileReader\u001b[49m\u001b[43m(\u001b[49m\u001b[43mfilepath_or_buffer\u001b[49m\u001b[43m,\u001b[49m\u001b[43m \u001b[49m\u001b[38;5;241;43m*\u001b[39;49m\u001b[38;5;241;43m*\u001b[39;49m\u001b[43mkwds\u001b[49m\u001b[43m)\u001b[49m\n\u001b[1;32m    607\u001b[0m \u001b[38;5;28;01mif\u001b[39;00m chunksize \u001b[38;5;129;01mor\u001b[39;00m iterator:\n\u001b[1;32m    608\u001b[0m     \u001b[38;5;28;01mreturn\u001b[39;00m parser\n",
      "File \u001b[0;32m~/anaconda3/lib/python3.10/site-packages/pandas/io/parsers/readers.py:1442\u001b[0m, in \u001b[0;36mTextFileReader.__init__\u001b[0;34m(self, f, engine, **kwds)\u001b[0m\n\u001b[1;32m   1439\u001b[0m     \u001b[38;5;28mself\u001b[39m\u001b[38;5;241m.\u001b[39moptions[\u001b[38;5;124m\"\u001b[39m\u001b[38;5;124mhas_index_names\u001b[39m\u001b[38;5;124m\"\u001b[39m] \u001b[38;5;241m=\u001b[39m kwds[\u001b[38;5;124m\"\u001b[39m\u001b[38;5;124mhas_index_names\u001b[39m\u001b[38;5;124m\"\u001b[39m]\n\u001b[1;32m   1441\u001b[0m \u001b[38;5;28mself\u001b[39m\u001b[38;5;241m.\u001b[39mhandles: IOHandles \u001b[38;5;241m|\u001b[39m \u001b[38;5;28;01mNone\u001b[39;00m \u001b[38;5;241m=\u001b[39m \u001b[38;5;28;01mNone\u001b[39;00m\n\u001b[0;32m-> 1442\u001b[0m \u001b[38;5;28mself\u001b[39m\u001b[38;5;241m.\u001b[39m_engine \u001b[38;5;241m=\u001b[39m \u001b[38;5;28;43mself\u001b[39;49m\u001b[38;5;241;43m.\u001b[39;49m\u001b[43m_make_engine\u001b[49m\u001b[43m(\u001b[49m\u001b[43mf\u001b[49m\u001b[43m,\u001b[49m\u001b[43m \u001b[49m\u001b[38;5;28;43mself\u001b[39;49m\u001b[38;5;241;43m.\u001b[39;49m\u001b[43mengine\u001b[49m\u001b[43m)\u001b[49m\n",
      "File \u001b[0;32m~/anaconda3/lib/python3.10/site-packages/pandas/io/parsers/readers.py:1753\u001b[0m, in \u001b[0;36mTextFileReader._make_engine\u001b[0;34m(self, f, engine)\u001b[0m\n\u001b[1;32m   1750\u001b[0m     \u001b[38;5;28;01mraise\u001b[39;00m \u001b[38;5;167;01mValueError\u001b[39;00m(msg)\n\u001b[1;32m   1752\u001b[0m \u001b[38;5;28;01mtry\u001b[39;00m:\n\u001b[0;32m-> 1753\u001b[0m     \u001b[38;5;28;01mreturn\u001b[39;00m \u001b[43mmapping\u001b[49m\u001b[43m[\u001b[49m\u001b[43mengine\u001b[49m\u001b[43m]\u001b[49m\u001b[43m(\u001b[49m\u001b[43mf\u001b[49m\u001b[43m,\u001b[49m\u001b[43m \u001b[49m\u001b[38;5;241;43m*\u001b[39;49m\u001b[38;5;241;43m*\u001b[39;49m\u001b[38;5;28;43mself\u001b[39;49m\u001b[38;5;241;43m.\u001b[39;49m\u001b[43moptions\u001b[49m\u001b[43m)\u001b[49m\n\u001b[1;32m   1754\u001b[0m \u001b[38;5;28;01mexcept\u001b[39;00m \u001b[38;5;167;01mException\u001b[39;00m:\n\u001b[1;32m   1755\u001b[0m     \u001b[38;5;28;01mif\u001b[39;00m \u001b[38;5;28mself\u001b[39m\u001b[38;5;241m.\u001b[39mhandles \u001b[38;5;129;01mis\u001b[39;00m \u001b[38;5;129;01mnot\u001b[39;00m \u001b[38;5;28;01mNone\u001b[39;00m:\n",
      "File \u001b[0;32m~/anaconda3/lib/python3.10/site-packages/pandas/io/parsers/c_parser_wrapper.py:79\u001b[0m, in \u001b[0;36mCParserWrapper.__init__\u001b[0;34m(self, src, **kwds)\u001b[0m\n\u001b[1;32m     76\u001b[0m     kwds\u001b[38;5;241m.\u001b[39mpop(key, \u001b[38;5;28;01mNone\u001b[39;00m)\n\u001b[1;32m     78\u001b[0m kwds[\u001b[38;5;124m\"\u001b[39m\u001b[38;5;124mdtype\u001b[39m\u001b[38;5;124m\"\u001b[39m] \u001b[38;5;241m=\u001b[39m ensure_dtype_objs(kwds\u001b[38;5;241m.\u001b[39mget(\u001b[38;5;124m\"\u001b[39m\u001b[38;5;124mdtype\u001b[39m\u001b[38;5;124m\"\u001b[39m, \u001b[38;5;28;01mNone\u001b[39;00m))\n\u001b[0;32m---> 79\u001b[0m \u001b[38;5;28mself\u001b[39m\u001b[38;5;241m.\u001b[39m_reader \u001b[38;5;241m=\u001b[39m \u001b[43mparsers\u001b[49m\u001b[38;5;241;43m.\u001b[39;49m\u001b[43mTextReader\u001b[49m\u001b[43m(\u001b[49m\u001b[43msrc\u001b[49m\u001b[43m,\u001b[49m\u001b[43m \u001b[49m\u001b[38;5;241;43m*\u001b[39;49m\u001b[38;5;241;43m*\u001b[39;49m\u001b[43mkwds\u001b[49m\u001b[43m)\u001b[49m\n\u001b[1;32m     81\u001b[0m \u001b[38;5;28mself\u001b[39m\u001b[38;5;241m.\u001b[39munnamed_cols \u001b[38;5;241m=\u001b[39m \u001b[38;5;28mself\u001b[39m\u001b[38;5;241m.\u001b[39m_reader\u001b[38;5;241m.\u001b[39munnamed_cols\n\u001b[1;32m     83\u001b[0m \u001b[38;5;66;03m# error: Cannot determine type of 'names'\u001b[39;00m\n",
      "File \u001b[0;32m~/anaconda3/lib/python3.10/site-packages/pandas/_libs/parsers.pyx:554\u001b[0m, in \u001b[0;36mpandas._libs.parsers.TextReader.__cinit__\u001b[0;34m()\u001b[0m\n",
      "\u001b[0;31mEmptyDataError\u001b[0m: No columns to parse from file"
     ]
    }
   ],
   "source": [
    "# Compiles all the day-4 mean returns per meaningful word \n",
    "\n",
    "d4_mean_freturns = []\n",
    "\n",
    "for csv in d4_csv_files: # d4_csv_files is the list of csv files of day-4 fractional returns\n",
    "    mean_freturn = float(mean_freturns(csv).iloc[0])\n",
    "    d4_mean_freturns.append(mean_freturn)\n",
    "\n",
    "# print(d4_mean_freturns, len(d4_mean_freturns)) to check values\n",
    "\n",
    "for mean_freturn in d4_mean_freturns:\n",
    "    print(mean_freturn)"
   ]
  },
  {
   "cell_type": "code",
   "execution_count": null,
   "id": "0dc900e2",
   "metadata": {},
   "outputs": [],
   "source": [
    "d4_mean_freturns"
   ]
  },
  {
   "cell_type": "code",
   "execution_count": null,
   "id": "f12aba6c-6242-413a-83d9-06427559a485",
   "metadata": {},
   "outputs": [],
   "source": [
    "# Compiles all the day-5 mean returns per meaningful word \n",
    "\n",
    "d5_mean_freturns = []\n",
    "\n",
    "for csv in d5_csv_files: # d5_csv_files is the list of csv files of day-5 fractional returns\n",
    "    mean_freturn = float(mean_freturns(csv).iloc[0])\n",
    "    d5_mean_freturns.append(mean_freturn)\n",
    "\n",
    "# print(d5_mean_freturns, len(d5_mean_freturns)) to check values\n",
    "\n",
    "for mean_freturn in d5_mean_freturns:\n",
    "    print(mean_freturn)"
   ]
  },
  {
   "cell_type": "code",
   "execution_count": null,
   "id": "33e74c8e",
   "metadata": {},
   "outputs": [],
   "source": [
    "len(d4_mean_freturns)"
   ]
  },
  {
   "cell_type": "code",
   "execution_count": null,
   "id": "d3751127",
   "metadata": {},
   "outputs": [],
   "source": [
    "# Get the weighted average of the average returns \n",
    "\n",
    "d4_average_weighted_mean_freturn =  sum(ret * weight for ret, weight in zip(d4_mean_freturns, weights_4))\n",
    "d5_average_weighted_mean_freturn =  sum(ret * weight for ret, weight in zip(d5_mean_freturns, weights_5))\n",
    "\n",
    "print(f\"D4 Weighted Average of Averages: {round(d4_average_weighted_mean_freturn,8)}\")\n",
    "print(f\"D5 Weighted Average of Averages: {round(d5_average_weighted_mean_freturn,8)}\")"
   ]
  },
  {
   "cell_type": "code",
   "execution_count": null,
   "id": "b2b27f14-fe9c-4c74-9352-ccb8a554e780",
   "metadata": {},
   "outputs": [],
   "source": [
    "# Save lists as csv\n",
    "\n",
    "d4_mean_freturns = [float(val) for val in d4_mean_freturns]\n",
    "d4_mean_freturns_arr = np.array(d4_mean_freturns)\n",
    "\n",
    "d5_mean_freturns = [float(val) for val in d5_mean_freturns]\n",
    "d5_mean_freturns_arr = np.array(d5_mean_freturns)\n",
    "np.savetxt(\"d4_mean_freturns.csv\",d4_mean_freturns_arr,delimiter=\",\")\n",
    "np.savetxt(\"d5_mean_freturns.csv\",d5_mean_freturns_arr,delimiter=\",\")"
   ]
  },
  {
   "cell_type": "markdown",
   "id": "b1c39eaf",
   "metadata": {},
   "source": [
    "## Data Exploration"
   ]
  },
  {
   "cell_type": "markdown",
   "id": "1d4dfb1d",
   "metadata": {},
   "source": [
    "### Distribution"
   ]
  },
  {
   "cell_type": "code",
   "execution_count": null,
   "id": "fb59a6f6",
   "metadata": {},
   "outputs": [],
   "source": [
    "positive_meanret_d4 = list(filter(lambda x: x >= 0, d4_mean_freturns))\n",
    "negative_meanret_d4 = list(filter(lambda x: x < 0, d4_mean_freturns))\n",
    "\n",
    "positive_meanret_d5 = list(filter(lambda x: x >= 0, d5_mean_freturns))\n",
    "negative_meanret_d5 = list(filter(lambda x: x < 0, d5_mean_freturns))\n",
    "\n",
    "#Distribution\n",
    "\n",
    "print(f\"Number of positive returns (Day 4): {len(positive_meanret_d4)}\")\n",
    "print(f\"Number of negative returns (Day 4): {len(negative_meanret_d4)}\")\n",
    "print(f\"Number of positive returns (Day 5): {len(positive_meanret_d5)}\")\n",
    "print(f\"Number of negative returns (Day 5): {len(negative_meanret_d5)}\")"
   ]
  },
  {
   "cell_type": "markdown",
   "id": "30f6646a",
   "metadata": {},
   "source": [
    "### Average Gain and Average Loss"
   ]
  },
  {
   "cell_type": "code",
   "execution_count": null,
   "id": "3a4447f2",
   "metadata": {},
   "outputs": [],
   "source": [
    "def Average(lst): \n",
    "    return sum(lst) / len(lst) \n",
    "\n",
    "avg_mgain_4 = Average(positive_meanret_d4)\n",
    "avg_mloss_4 = Average(negative_meanret_d4)\n",
    "avg_mgain_5 = Average(positive_meanret_d5)\n",
    "avg_mloss_5 = Average(negative_meanret_d5)\n",
    "\n",
    "print(f\"Average Gain (Day 4): {avg_mgain_4}\")\n",
    "print(f\"Average Loss (Day 4): {avg_mloss_4}\")\n",
    "print(f\"Average Gain (Day 5): {avg_mgain_5}\")\n",
    "print(f\"Average Loss (Day 5): {avg_mloss_5}\")"
   ]
  },
  {
   "cell_type": "markdown",
   "id": "003d5f56",
   "metadata": {},
   "source": [
    "## Probability of Gain and Loss"
   ]
  },
  {
   "cell_type": "code",
   "execution_count": null,
   "id": "93bd5a57",
   "metadata": {},
   "outputs": [],
   "source": [
    "prob_mgain_4 = len(positive_meanret_d4)/len(d4_mean_freturns)\n",
    "prob_mloss_4 = len(negative_meanret_d4)/len(d4_mean_freturns)\n",
    "\n",
    "prob_mgain_5 = len(positive_meanret_d5)/len(d5_mean_freturns)\n",
    "prob_mloss_5 = len(positive_meanret_d5)/len(d5_mean_freturns)\n",
    "\n",
    "print(f\"Probability of Gain (a stock being traded on day 4): {prob_mgain_4}\")\n",
    "print(f\"Probability of Gain (a stock being traded on day 5): {prob_mloss_4}\")\n",
    "print(f\"Probability of Loss (a stock being traded on day 4): {prob_mgain_5}\")\n",
    "print(f\"Probability of Loss (a stock being traded on day 5): {prob_mloss_5}\")"
   ]
  },
  {
   "cell_type": "code",
   "execution_count": null,
   "id": "fc43824b-61f6-491d-bbd6-9fa03e18abd1",
   "metadata": {},
   "outputs": [],
   "source": [
    "histogram_weekly('d4_mean_freturns.csv','d5_mean_freturns.csv')"
   ]
  },
  {
   "cell_type": "code",
   "execution_count": null,
   "id": "5daa7285",
   "metadata": {},
   "outputs": [],
   "source": []
  }
 ],
 "metadata": {
  "kernelspec": {
   "display_name": "Python 3 (ipykernel)",
   "language": "python",
   "name": "python3"
  },
  "language_info": {
   "codemirror_mode": {
    "name": "ipython",
    "version": 3
   },
   "file_extension": ".py",
   "mimetype": "text/x-python",
   "name": "python",
   "nbconvert_exporter": "python",
   "pygments_lexer": "ipython3",
   "version": "3.10.9"
  }
 },
 "nbformat": 4,
 "nbformat_minor": 5
}
