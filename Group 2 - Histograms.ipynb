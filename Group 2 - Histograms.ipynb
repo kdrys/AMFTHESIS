{
 "cells": [
  {
   "cell_type": "code",
   "execution_count": 1,
   "id": "c325f285",
   "metadata": {},
   "outputs": [],
   "source": [
    "import matplotlib.pyplot as plt\n",
    "import numpy as np\n",
    "import pandas as pd\n",
    "import math\n",
    "from scipy.stats import shapiro\n",
    "import os"
   ]
  },
  {
   "cell_type": "code",
   "execution_count": 2,
   "id": "98a3e2fc",
   "metadata": {},
   "outputs": [],
   "source": [
    "#read the data\n",
    "data_path1 = os.path.join(os.getcwd(), \"d4frac_returns.csv\")\n",
    "data_path2 = os.path.join(os.getcwd(), \"d5frac_returns.csv\")\n",
    "data_path3 = os.path.join(os.getcwd(), \"weights4.csv\")\n",
    "data_path4 = os.path.join(os.getcwd(), \"weights5.csv\")"
   ]
  },
  {
   "cell_type": "code",
   "execution_count": 3,
   "id": "c4c7567e",
   "metadata": {},
   "outputs": [],
   "source": [
    "d4frac = pd.read_csv(data_path1, header = None)\n",
    "d5frac = pd.read_csv(data_path2, header = None)\n",
    "weights_4 = pd.read_csv(data_path3, header = None)\n",
    "weights_5 = pd.read_csv(data_path4, header = None)"
   ]
  },
  {
   "cell_type": "code",
   "execution_count": 4,
   "id": "d565434a",
   "metadata": {},
   "outputs": [],
   "source": [
    "weights_4 = weights_4[0].values.tolist()\n",
    "weights_5 = weights_5[0].values.tolist()"
   ]
  },
  {
   "cell_type": "markdown",
   "id": "9091f26d",
   "metadata": {},
   "source": [
    "## Data Exploration"
   ]
  },
  {
   "cell_type": "markdown",
   "id": "c111953e",
   "metadata": {},
   "source": [
    "### Number of Transactions"
   ]
  },
  {
   "cell_type": "code",
   "execution_count": 5,
   "id": "ceb760d4",
   "metadata": {
    "scrolled": true
   },
   "outputs": [
    {
     "name": "stdout",
     "output_type": "stream",
     "text": [
      "30029\n",
      "14315\n"
     ]
    }
   ],
   "source": [
    "print(len(d4frac))\n",
    "print(len(d5frac))"
   ]
  },
  {
   "cell_type": "markdown",
   "id": "f4afa8ed",
   "metadata": {},
   "source": [
    "### Distribution of Returns"
   ]
  },
  {
   "cell_type": "code",
   "execution_count": 6,
   "id": "f13b17da",
   "metadata": {},
   "outputs": [
    {
     "name": "stdout",
     "output_type": "stream",
     "text": [
      "Number of positive returns (Day 4): 16468\n",
      "Number of negative returns (Day 4): 13561\n",
      "Number of positive returns (Day 5): 7241\n",
      "Number of negative returns (Day 5): 7074\n"
     ]
    }
   ],
   "source": [
    "#Filtering positive and negative returns\n",
    "\n",
    "positive_ret_4 = list(filter(lambda x: x >= 0, d4frac[0]))\n",
    "negative_ret_4 = list(filter(lambda x: x < 0, d4frac[0]))\n",
    "positive_ret_5 = list(filter(lambda x: x >= 0, d5frac[0]))\n",
    "negative_ret_5 = list(filter(lambda x: x < 0, d5frac[0]))\n",
    "\n",
    "#Distribution\n",
    "\n",
    "print(f\"Number of positive returns (Day 4): {len(positive_ret_4)}\")\n",
    "print(f\"Number of negative returns (Day 4): {len(negative_ret_4)}\")\n",
    "print(f\"Number of positive returns (Day 5): {len(positive_ret_5)}\")\n",
    "print(f\"Number of negative returns (Day 5): {len(negative_ret_5)}\")"
   ]
  },
  {
   "cell_type": "markdown",
   "id": "09a60ee9",
   "metadata": {},
   "source": [
    "### Average Return"
   ]
  },
  {
   "cell_type": "code",
   "execution_count": 7,
   "id": "8b5585cb",
   "metadata": {
    "scrolled": true
   },
   "outputs": [
    {
     "name": "stdout",
     "output_type": "stream",
     "text": [
      "Day 4 Stats:\n",
      "mean: 0.0014217090146192012\n",
      "std: 0.019940819777262635\n",
      "\n",
      "Day 5 Stats:\n",
      "mean: 5.295144952846694e-06\n",
      "std: 0.018108583112847385\n"
     ]
    }
   ],
   "source": [
    "print(\"Day 4 Stats:\")\n",
    "print(f\"mean: {float(d4frac.mean())}\")\n",
    "print(f\"std: {float(d4frac.std())}\")\n",
    "print(\"\")\n",
    "\n",
    "print(\"Day 5 Stats:\")\n",
    "print(f\"mean: {float(d5frac.mean())}\")\n",
    "print(f\"std: {float(d5frac.std())}\")"
   ]
  },
  {
   "cell_type": "markdown",
   "id": "25f9a27a",
   "metadata": {},
   "source": [
    "### Average Gain and Average Loss"
   ]
  },
  {
   "cell_type": "code",
   "execution_count": 8,
   "id": "2ca278b7",
   "metadata": {},
   "outputs": [
    {
     "name": "stdout",
     "output_type": "stream",
     "text": [
      "Average Gain (Day 4): 0.014301742773864414\n",
      "Average Loss (Day 4): -0.014219349605486245\n",
      "Average Gain (Day 5): 0.012760751277447899\n",
      "Average Loss (Day 5): -0.013051286400904713\n"
     ]
    }
   ],
   "source": [
    "def Average(lst): \n",
    "    return sum(lst) / len(lst) \n",
    "\n",
    "avg_gain_4 = Average(positive_ret_4)\n",
    "avg_loss_4 = Average(negative_ret_4)\n",
    "avg_gain_5 = Average(positive_ret_5)\n",
    "avg_loss_5 = Average(negative_ret_5)\n",
    "\n",
    "print(f\"Average Gain (Day 4): {avg_gain_4}\")\n",
    "print(f\"Average Loss (Day 4): {avg_loss_4}\")\n",
    "print(f\"Average Gain (Day 5): {avg_gain_5}\")\n",
    "print(f\"Average Loss (Day 5): {avg_loss_5}\")"
   ]
  },
  {
   "cell_type": "markdown",
   "id": "e4f804da",
   "metadata": {},
   "source": [
    "## Probability of Gain and Loss"
   ]
  },
  {
   "cell_type": "code",
   "execution_count": 9,
   "id": "1dc10291",
   "metadata": {},
   "outputs": [
    {
     "name": "stdout",
     "output_type": "stream",
     "text": [
      "Probability of Gain (a stock being traded on day 4): 0.5484032102301108\n",
      "Probability of Gain (a stock being traded on day 5): 0.5058330422633601\n",
      "Probability of Loss (a stock being traded on day 4): 0.4515967897698891\n",
      "Probability of Loss (a stock being traded on day 5): 0.4941669577366399\n"
     ]
    }
   ],
   "source": [
    "prob_gain_4 = len(positive_ret_4)/len(d4frac)\n",
    "prob_loss_4 = len(negative_ret_4)/len(d4frac)\n",
    "\n",
    "prob_gain_5 = len(positive_ret_5)/len(d5frac)\n",
    "prob_loss_5 = len(negative_ret_5)/len(d5frac)\n",
    "\n",
    "print(f\"Probability of Gain (a stock being traded on day 4): {prob_gain_4}\")\n",
    "print(f\"Probability of Gain (a stock being traded on day 5): {prob_gain_5}\")\n",
    "print(f\"Probability of Loss (a stock being traded on day 4): {prob_loss_4}\")\n",
    "print(f\"Probability of Loss (a stock being traded on day 5): {prob_loss_5}\")"
   ]
  },
  {
   "cell_type": "markdown",
   "id": "26584fd0",
   "metadata": {},
   "source": [
    "## Visualization"
   ]
  },
  {
   "cell_type": "markdown",
   "id": "f583e737",
   "metadata": {},
   "source": [
    "### (A) Average "
   ]
  },
  {
   "cell_type": "markdown",
   "id": "61bbaafc",
   "metadata": {},
   "source": [
    "Considering all stocks that can be traded on days 4 and 5, respectively"
   ]
  },
  {
   "cell_type": "markdown",
   "id": "7c271afa",
   "metadata": {},
   "source": [
    "### Histograms"
   ]
  },
  {
   "cell_type": "code",
   "execution_count": 10,
   "id": "f3fbda63",
   "metadata": {},
   "outputs": [],
   "source": [
    "max_d4 = float(d4frac.max())\n",
    "min_d4 = float(d4frac.min())\n",
    "max_d5 = float(d5frac.max())\n",
    "min_d5 = float(d5frac.min())\n",
    "n = d4frac.count()\n",
    "n2 = d5frac.count() \n",
    "\n",
    "bins_d4 = (max_d4 - min_d4)/math.sqrt(n)\n",
    "\n",
    "bins_d5 = (max_d5 - min_d5)/math.sqrt(n2)"
   ]
  },
  {
   "cell_type": "code",
   "execution_count": 11,
   "id": "7c8ab792",
   "metadata": {},
   "outputs": [],
   "source": [
    "bin_num_d4 = np.arange(min_d4, max_d4  + bins_d4, bins_d4)\n",
    "\n",
    "bin_num_d5 = np.arange(min_d5, max_d5  + bins_d5, bins_d5)"
   ]
  },
  {
   "cell_type": "code",
   "execution_count": 12,
   "id": "ecf6d86a",
   "metadata": {},
   "outputs": [
    {
     "data": {
      "image/png": "[encoded data removed]",
      "text/plain": [
       "<Figure size 640x480 with 1 Axes>"
      ]
     },
     "metadata": {},
     "output_type": "display_data"
    },
    {
     "name": "stdout",
     "output_type": "stream",
     "text": [
      "Day 4 Stats:\n",
      "mean: 0.0014217090146192012\n",
      "std: 0.019940819777262635\n"
     ]
    }
   ],
   "source": [
    "# Creating the histogram using d4frac data\n",
    "bin_num_d4 = np.arange(min_d4, max_d4  + bins_d4, bins_d4)\n",
    "plt.hist(d4frac, bins=bin_num_d4, density=False, alpha=0.5, color='r', edgecolor='red')\n",
    "\n",
    "# Adding labels and title\n",
    "plt.xlabel('Fractional Returns')\n",
    "plt.ylabel('Frequency')\n",
    "\n",
    "# Calculate the mean\n",
    "avg_d4 = d4frac.mean()\n",
    "\n",
    "# Highlight the mean\n",
    "plt.axvline(avg_d4.item(), color='blue', linestyle='dashed', linewidth=1)\n",
    "\n",
    "# Setting the x-axis limits\n",
    "plt.xlim(-0.12, 0.12)\n",
    "\n",
    "plt.show()\n",
    "\n",
    "#density: bool, default: False\n",
    "#If True, draw and return a probability density: each bin will display the bin's raw count divided \n",
    "#by the total number of counts and the bin width (density = counts / (sum(counts) * np.diff(bins))), \n",
    "#so that the area under the histogram integrates to 1 (np.sum(density * np.diff(bins)) == 1).\n",
    "\n",
    "print(\"Day 4 Stats:\")\n",
    "print(f\"mean: {float(d4frac.mean())}\")\n",
    "print(f\"std: {float(d4frac.std())}\")"
   ]
  },
  {
   "cell_type": "code",
   "execution_count": 13,
   "id": "84802404",
   "metadata": {
    "scrolled": true
   },
   "outputs": [
    {
     "data": {
      "image/png": "[encoded data removed]",
      "text/plain": [
       "<Figure size 640x480 with 1 Axes>"
      ]
     },
     "metadata": {},
     "output_type": "display_data"
    },
    {
     "name": "stdout",
     "output_type": "stream",
     "text": [
      "Day 5 Stats:\n",
      "mean: 5.295144952846694e-06\n",
      "std: 0.018108583112847385\n"
     ]
    }
   ],
   "source": [
    "# Creating the histogram using d5frac1 data\n",
    "bin_num_d5 = np.arange(min_d5, max_d5  + bins_d5, bins_d5)\n",
    "plt.hist(d5frac, bins=bin_num_d5, density=False, alpha=0.5, color='b', edgecolor='blue')\n",
    "\n",
    "# Adding labels and title\n",
    "plt.xlabel('Fractional Returns')\n",
    "plt.ylabel('Frequency')\n",
    "\n",
    "# Calculate the mean\n",
    "avg_d5 = d5frac.mean()\n",
    "\n",
    "# Highlight the mean\n",
    "plt.axvline(avg_d5.item(), color='red', linestyle='dashed', linewidth=1)\n",
    "\n",
    "\n",
    "# Setting the x-axis limits\n",
    "plt.xlim(-0.1, 0.1)\n",
    "\n",
    "plt.show()\n",
    "\n",
    "print(\"Day 5 Stats:\")\n",
    "print(f\"mean: {float(d5frac.mean())}\")\n",
    "print(f\"std: {float(d5frac.std())}\")"
   ]
  },
  {
   "cell_type": "markdown",
   "id": "3155dbf8",
   "metadata": {},
   "source": [
    "## (B) Average of the Averages"
   ]
  },
  {
   "cell_type": "markdown",
   "id": "40696168",
   "metadata": {},
   "source": [
    "Getting the average of the average fractional returns of stock i traded on day j, i = 1:10 and j = 4,5"
   ]
  },
  {
   "cell_type": "markdown",
   "id": "a91eb451-4dbd-4bf4-af32-37169c968558",
   "metadata": {},
   "source": [
    "##### Mean Fractional Returns per Meaningful Word"
   ]
  },
  {
   "cell_type": "markdown",
   "id": "07e3dcc9-a3df-4d43-bec2-040a401d3d6a",
   "metadata": {},
   "source": [
    "##### Helper Functions"
   ]
  },
  {
   "cell_type": "code",
   "execution_count": 14,
   "id": "fd5505ed-0328-4646-8d52-952ca1042ed9",
   "metadata": {},
   "outputs": [],
   "source": [
    "# Function that outputs normalized histogram of Day-4 and Day-5 returns of individual sequences\n",
    "def histogram_norm(csv_path1, csv_path2):\n",
    "    data_path1 = os.path.join(os.getcwd(), csv_path1)\n",
    "    data_path2 = os.path.join(os.getcwd(), csv_path2)\n",
    "    df1 = pd.read_csv(data_path1, header = None)\n",
    "    df2 = pd.read_csv(data_path2, header = None)\n",
    "    \n",
    "    df1_max = float(df1.max())\n",
    "    df1_min = float(df1.min())\n",
    "    df2_max = float(df2.max())\n",
    "    df2_min = float(df2.min())\n",
    "    \n",
    "    n1 = df1.count()\n",
    "    n2 = df2.count() \n",
    "    \n",
    "    df1_bins = (df1_max - df1_min)/math.sqrt(n1)\n",
    "    df2_bins = (df2_max - df2_min)/math.sqrt(n2)\n",
    "    \n",
    "    df1_binwidth = round(df1_bins,2)\n",
    "    df2_binwidth = round(df2_bins,2)\n",
    "    \n",
    "    df1_xbins = np.arange(df1_min, df1_max + df1_binwidth, df1_binwidth)\n",
    "    df2_xbins = np.arange(df2_min, df2_max + df2_binwidth, df2_binwidth)\n",
    "    \n",
    "    fig, axes = plt.subplots(nrows=2, ncols=1, figsize = (10, 10), tight_layout=True)\n",
    "    axes[0].hist(df1, bins=df1_xbins, density=True, alpha=0.5, color='r', edgecolor='red')\n",
    "    axes[0].set_xlabel('Fractional Returns')\n",
    "    axes[0].set_ylabel('Probability Density')\n",
    "    axes[0].set_title('Normalized Histogram of Day-4 Returns')\n",
    "    \n",
    "    axes[1].hist(df2, bins=df2_xbins, density=True, alpha=0.5, color='forestgreen', edgecolor='darkgreen')\n",
    "    axes[1].set_xlabel('Fractional Returns')\n",
    "    axes[1].set_ylabel('Probability Density')\n",
    "    axes[1].set_title('Normalized Histogram of Day-5 Returns')\n",
    "    \n",
    "    data = {\n",
    "    \"Fractional Return\": [\"Day 4\", \"Day 5\"],\n",
    "    \"Average Return\": [float(df1.mean()),float(df2.mean())],\n",
    "    \"Standard Deviation\": [float(df1.std()),float(df2.std())]\n",
    "    }\n",
    "\n",
    "    df = pd.DataFrame(data)\n",
    "    \n",
    "    return df"
   ]
  },
  {
   "cell_type": "code",
   "execution_count": 29,
   "id": "918a3a60-8f65-44b3-a048-77fd3a0fc218",
   "metadata": {},
   "outputs": [],
   "source": [
    "# Function that outputs (frequency) histogram of weekly Day-4 and Day-5 returns of sequences\n",
    "def histogram_weekly5(csv_path):\n",
    "    data_path = os.path.join(os.getcwd(), csv_path)\n",
    "    df1 = pd.read_csv(data_path, header = None)\n",
    "    \n",
    "    df1_max = float(df1.max())\n",
    "    df1_min = float(df1.min())\n",
    "    \n",
    "    n1 = df1.count()\n",
    "    \n",
    "    df1_bins = (df1_max - df1_min)/math.sqrt(n1)\n",
    "    \n",
    "    df1_binwidth = df1_bins\n",
    "    \n",
    "    df1_xbins = np.arange(df1_min, df1_max + df1_binwidth, df1_binwidth)\n",
    "    \n",
    "    plt.xlim(-0.005,0.005)\n",
    "    \n",
    "    plt.xlabel('Mean Fractional Returns')\n",
    "    plt.ylabel('Frequency')\n",
    "    \n",
    "    plt.hist(df1, bins=df1_xbins, density=False, alpha=0.5, color='b', edgecolor='blue')\n",
    "    \n",
    "    plt.savefig('G1 D5 Mean Freturns.jpg')\n",
    "    \n",
    "    data = {\n",
    "    \"Fractional Return\": [\"Day 4\"],\n",
    "    \"Average Return\": [float(df1.mean())],\n",
    "    \"Standard Deviation\": [float(df1.std())]\n",
    "    }\n",
    "\n",
    "    df = pd.DataFrame(data)\n",
    "    \n",
    "    return df"
   ]
  },
  {
   "cell_type": "code",
   "execution_count": 16,
   "id": "e608dfcd-5e58-499c-bf20-628ee99617fb",
   "metadata": {},
   "outputs": [],
   "source": [
    "# Create a list of the csv files. Use separately for day 4 and day 5.\n",
    "\n",
    "\"\"\"\n",
    "Note: Make separate folders for csv files of day-4 and day-5 fractional returns.\n",
    "Make a copy of the csv files of fractional returns and paste them in their respective folders. \n",
    "Here, D4_FReturns is the name of the folder containing all csv files for day-4 fractional returns\n",
    "\"\"\"\n",
    "\n",
    "d4_csv_files = sorted([f for f in os.listdir(os.path.join(os.getcwd(), 'D4_FReturns')) if f.endswith('.csv')], key=lambda x: int(x[6:-4]))\n",
    "\n",
    "d5_csv_files = sorted([f for f in os.listdir(os.path.join(os.getcwd(), 'D5_FReturns')) if f.endswith('.csv')], key=lambda x: int(x[6:-4]))\n",
    "\n",
    "\n",
    "# print(csv_files) to check content of the list"
   ]
  },
  {
   "cell_type": "code",
   "execution_count": 17,
   "id": "6f61ea79",
   "metadata": {},
   "outputs": [
    {
     "data": {
      "text/plain": [
       "['d4frac1.csv',\n",
       " 'd4frac2.csv',\n",
       " 'd4frac3.csv',\n",
       " 'd4frac4.csv',\n",
       " 'd4frac5.csv',\n",
       " 'd4frac6.csv',\n",
       " 'd4frac7.csv',\n",
       " 'd4frac8.csv',\n",
       " 'd4frac9.csv',\n",
       " 'd4frac10.csv',\n",
       " 'd4frac11.csv',\n",
       " 'd4frac12.csv',\n",
       " 'd4frac13.csv',\n",
       " 'd4frac14.csv',\n",
       " 'd4frac15.csv',\n",
       " 'd4frac16.csv',\n",
       " 'd4frac17.csv',\n",
       " 'd4frac18.csv',\n",
       " 'd4frac19.csv',\n",
       " 'd4frac20.csv',\n",
       " 'd4frac21.csv',\n",
       " 'd4frac22.csv',\n",
       " 'd4frac23.csv',\n",
       " 'd4frac24.csv',\n",
       " 'd4frac25.csv',\n",
       " 'd4frac26.csv',\n",
       " 'd4frac27.csv',\n",
       " 'd4frac28.csv',\n",
       " 'd4frac29.csv',\n",
       " 'd4frac30.csv',\n",
       " 'd4frac31.csv',\n",
       " 'd4frac32.csv',\n",
       " 'd4frac33.csv',\n",
       " 'd4frac34.csv',\n",
       " 'd4frac35.csv',\n",
       " 'd4frac36.csv',\n",
       " 'd4frac37.csv',\n",
       " 'd4frac38.csv',\n",
       " 'd4frac39.csv',\n",
       " 'd4frac40.csv',\n",
       " 'd4frac41.csv',\n",
       " 'd4frac42.csv',\n",
       " 'd4frac43.csv',\n",
       " 'd4frac44.csv',\n",
       " 'd4frac45.csv',\n",
       " 'd4frac46.csv',\n",
       " 'd4frac47.csv',\n",
       " 'd4frac48.csv',\n",
       " 'd4frac49.csv',\n",
       " 'd4frac50.csv',\n",
       " 'd4frac51.csv',\n",
       " 'd4frac52.csv',\n",
       " 'd4frac53.csv',\n",
       " 'd4frac54.csv',\n",
       " 'd4frac55.csv',\n",
       " 'd4frac56.csv',\n",
       " 'd4frac57.csv',\n",
       " 'd4frac58.csv',\n",
       " 'd4frac59.csv',\n",
       " 'd4frac60.csv',\n",
       " 'd4frac61.csv',\n",
       " 'd4frac62.csv',\n",
       " 'd4frac63.csv',\n",
       " 'd4frac64.csv',\n",
       " 'd4frac65.csv',\n",
       " 'd4frac66.csv',\n",
       " 'd4frac67.csv',\n",
       " 'd4frac68.csv',\n",
       " 'd4frac69.csv',\n",
       " 'd4frac70.csv',\n",
       " 'd4frac71.csv',\n",
       " 'd4frac72.csv',\n",
       " 'd4frac73.csv',\n",
       " 'd4frac74.csv',\n",
       " 'd4frac75.csv',\n",
       " 'd4frac76.csv',\n",
       " 'd4frac77.csv',\n",
       " 'd4frac78.csv',\n",
       " 'd4frac79.csv',\n",
       " 'd4frac80.csv',\n",
       " 'd4frac81.csv',\n",
       " 'd4frac82.csv',\n",
       " 'd4frac83.csv',\n",
       " 'd4frac84.csv',\n",
       " 'd4frac85.csv',\n",
       " 'd4frac86.csv',\n",
       " 'd4frac87.csv',\n",
       " 'd4frac88.csv',\n",
       " 'd4frac89.csv',\n",
       " 'd4frac90.csv',\n",
       " 'd4frac91.csv',\n",
       " 'd4frac92.csv',\n",
       " 'd4frac93.csv',\n",
       " 'd4frac94.csv',\n",
       " 'd4frac95.csv',\n",
       " 'd4frac96.csv',\n",
       " 'd4frac97.csv',\n",
       " 'd4frac98.csv',\n",
       " 'd4frac99.csv',\n",
       " 'd4frac100.csv',\n",
       " 'd4frac101.csv',\n",
       " 'd4frac102.csv',\n",
       " 'd4frac103.csv',\n",
       " 'd4frac104.csv']"
      ]
     },
     "execution_count": 17,
     "metadata": {},
     "output_type": "execute_result"
    }
   ],
   "source": [
    "d4_csv_files"
   ]
  },
  {
   "cell_type": "code",
   "execution_count": 18,
   "id": "08d3f2a3",
   "metadata": {},
   "outputs": [],
   "source": [
    "# Function that outputs the mean fractional return where input is a csv file\n",
    "def mean_freturns(csv_path):\n",
    "    data_path = os.path.join(os.getcwd(), csv_path)\n",
    "    df = pd.read_csv(data_path, header = None)\n",
    "    mean_freturn = df.mean()\n",
    "    return mean_freturn"
   ]
  },
  {
   "cell_type": "code",
   "execution_count": 19,
   "id": "be44e736",
   "metadata": {},
   "outputs": [
    {
     "name": "stderr",
     "output_type": "stream",
     "text": [
      "C:\\Users\\Acer\\AppData\\Local\\Temp\\ipykernel_19924\\523688013.py:5: FutureWarning: The default value of numeric_only in DataFrame.mean is deprecated. In a future version, it will default to False. In addition, specifying 'numeric_only=None' is deprecated. Select only valid columns or specify the value of numeric_only to silence this warning.\n",
      "  mean_freturn = df.mean()\n"
     ]
    },
    {
     "name": "stdout",
     "output_type": "stream",
     "text": [
      "0.0008848056537102474\n",
      "0.0006460526315789471\n",
      "0.0032833333333333325\n",
      "0.0011768965517241381\n",
      "0.002768965517241379\n",
      "0.0011986394557823128\n",
      "0.003456537102473498\n",
      "0.002856551724137931\n",
      "0.0023322807017543863\n",
      "0.0007688356164383559\n",
      "0.002881972789115646\n",
      "0.002849629629629629\n",
      "0.002024080267558529\n",
      "0.0025310104529616723\n",
      "0.0011850340136054423\n",
      "-5.276752767527647e-05\n",
      "0.0026760147601476015\n",
      "-0.0006258620689655175\n",
      "0.0020694244604316544\n",
      "0.002724285714285714\n",
      "0.0023322807017543863\n",
      "-0.00013537414965986443\n",
      "0.0008848056537102474\n",
      "0.0020051020408163264\n",
      "0.0007843205574912893\n",
      "0.002976254180602007\n",
      "0.0014619999999999998\n",
      "0.0008089999999999999\n",
      "0.0017870629370629366\n",
      "0.0007077738515901061\n",
      "-0.0014853658536585366\n",
      "-0.00043573770491803264\n",
      "0.0004468965517241378\n",
      "0.0015292517006802722\n",
      "0.0020051020408163264\n",
      "0.001718727915194346\n",
      "0.00015068965517241404\n",
      "0.0025399999999999997\n",
      "0.0025279151943462903\n",
      "0.0014619999999999998\n",
      "0.000824381625441696\n",
      "0.0032300000000000002\n",
      "0.002322299651567944\n",
      "0.0005578947368421052\n",
      "0.0023968965517241372\n",
      "0.0005578947368421052\n",
      "0.003442434210526316\n",
      "0.0021682926829268297\n",
      "-0.0004539568345323738\n",
      "0.0011986394557823128\n",
      "0.002881972789115646\n",
      "0.0007077738515901061\n",
      "0.0014177777777777778\n",
      "0.0006460526315789471\n",
      "0.0016314285714285716\n",
      "0.0011597173144876323\n",
      "0.0008772413793103447\n",
      "0.002976254180602007\n",
      "0.0015104529616724739\n",
      "0.0020795918367346937\n",
      "0.0007843205574912893\n",
      "-1.0689655172414147e-05\n",
      "0.0026824137931034486\n",
      "0.0032300000000000002\n",
      "0.0011768965517241381\n",
      "0.000824381625441696\n",
      "0.0011597173144876323\n",
      "0.0003551724137931034\n",
      "-0.0005542857142857143\n",
      "0.0011672413793103445\n",
      "0.0009225806451612904\n",
      "0.0017164473684210524\n",
      "0.002856551724137931\n",
      "0.002768965517241379\n",
      "0.0017164473684210524\n",
      "-0.0009286259541984733\n",
      "0.0026877622377622385\n",
      "0.00035518518518518484\n",
      "0.0025310104529616723\n",
      "0.0011672413793103445\n",
      "0.00022264808362369343\n",
      "0.0026131034482758625\n",
      "-0.0014853658536585366\n",
      "0.0021682926829268297\n",
      "0.0015292517006802722\n",
      "-0.00013537414965986443\n",
      "0.00015068965517241404\n",
      "0.002849629629629629\n",
      "-1.0689655172414147e-05\n",
      "0.0017622950819672135\n",
      "0.00035518518518518484\n",
      "0.0012424657534246574\n",
      "0.001437769784172662\n",
      "0.003442434210526316\n",
      "0.002195801526717557\n",
      "0.0032833333333333325\n",
      "0.0008089999999999999\n",
      "-0.0006258620689655175\n",
      "0.0007688356164383559\n",
      "0.002194137931034483\n",
      "0.000999646643109541\n",
      "0.0007613793103448275\n",
      "5.559440559440568e-05\n",
      "0.0003551724137931034\n"
     ]
    }
   ],
   "source": [
    "# Compiles all the day-4 mean returns per meaningful word \n",
    "\n",
    "d4_mean_freturns = []\n",
    "\n",
    "for csv in d4_csv_files: # d4_csv_files is the list of csv files of day-4 fractional returns\n",
    "    mean_freturn = float(mean_freturns(csv).iloc[0])\n",
    "    d4_mean_freturns.append(mean_freturn)\n",
    "\n",
    "# print(d4_mean_freturns, len(d4_mean_freturns)) to check values\n",
    "\n",
    "for mean_freturn in d4_mean_freturns:\n",
    "    print(mean_freturn)"
   ]
  },
  {
   "cell_type": "code",
   "execution_count": 20,
   "id": "f12aba6c-6242-413a-83d9-06427559a485",
   "metadata": {},
   "outputs": [
    {
     "name": "stderr",
     "output_type": "stream",
     "text": [
      "C:\\Users\\Acer\\AppData\\Local\\Temp\\ipykernel_19924\\523688013.py:5: FutureWarning: The default value of numeric_only in DataFrame.mean is deprecated. In a future version, it will default to False. In addition, specifying 'numeric_only=None' is deprecated. Select only valid columns or specify the value of numeric_only to silence this warning.\n",
      "  mean_freturn = df.mean()\n"
     ]
    },
    {
     "name": "stdout",
     "output_type": "stream",
     "text": [
      "-0.0017604477611940297\n",
      "-0.0010563758389261746\n",
      "-0.0006568627450980393\n",
      "0.0019578231292517005\n",
      "0.001536\n",
      "0.001345\n",
      "-0.0002879999999999999\n",
      "0.0018965517241379313\n",
      "-0.0007425531914893617\n",
      "-0.0014187499999999999\n",
      "-0.0005268456375838927\n",
      "-0.0009893129770992366\n",
      "-0.000436241610738255\n",
      "0.0023957446808510643\n",
      "-0.0010992424242424245\n",
      "0.0006717741935483873\n",
      "0.001565354330708662\n",
      "0.0029635036496350364\n",
      "0.0006356060606060607\n",
      "0.0018563380281690137\n",
      "-0.0017035460992907805\n",
      "0.0004157894736842105\n",
      "0.00028731343283582115\n",
      "-0.0012920529801324506\n",
      "0.00037313432835820907\n",
      "-0.0003197278911564622\n",
      "-0.0003836879432624116\n",
      "-0.0008036764705882356\n",
      "0.0019610294117647056\n",
      "0.001896402877697842\n",
      "0.002810833333333333\n",
      "0.0004007874015748031\n",
      "0.00016249999999999967\n",
      "-0.0007884353741496599\n",
      "-0.0005549668874172184\n",
      "0.0004984848484848482\n",
      "0.0009468749999999999\n",
      "0.0012422077922077924\n",
      "-0.0019074829931972788\n",
      "-0.0025007092198581563\n",
      "0.002089130434782609\n",
      "-0.0010074074074074072\n",
      "0.0001856115107913669\n",
      "-0.0017266666666666671\n",
      "0.0003524137931034483\n",
      "-0.0009158333333333332\n",
      "-3.0612244897959114e-05\n",
      "0.002323741007194245\n",
      "0.0012645669291338581\n",
      "-0.0001699999999999999\n",
      "-0.0003174496644295301\n",
      "-0.0004935251798561149\n",
      "-0.0003272727272727273\n",
      "-0.00040335570469798637\n",
      "1.5267175572519205e-05\n",
      "-0.0005863636363636362\n",
      "0.0017485915492957743\n",
      "-0.0013108843537414968\n",
      "-0.001018320610687023\n",
      "3.597122302158277e-05\n",
      "-0.0019119402985074627\n",
      "0.0002617021276595745\n",
      "0.0010034482758620692\n",
      "0.0010407407407407412\n",
      "2.5850340136054594e-05\n",
      "-0.001911594202898551\n",
      "-0.0008863636363636362\n",
      "-0.000509448818897638\n",
      "0.0031734375\n",
      "0.0016280575539568346\n",
      "-0.0015840579710144924\n",
      "-0.0001339869281045749\n",
      "-0.0004041379310344826\n",
      "-0.001674666666666667\n",
      "1.830065359477113e-05\n",
      "-0.0007354545454545462\n",
      "0.0019115107913669064\n",
      "-0.000729133858267717\n",
      "-0.0011205673758865246\n",
      "-0.0007575539568345323\n",
      "-0.001318461538461538\n",
      "0.0005387323943661972\n",
      "-0.0021875\n",
      "-0.002133093525179856\n",
      "-0.0009938775510204083\n",
      "-0.0006368421052631581\n",
      "-0.00085390625\n",
      "0.0019076335877862595\n",
      "0.0005453900709219859\n",
      "-0.0005860000000000004\n",
      "0.0025094488188976377\n",
      "-0.0012361702127659576\n",
      "0.0001628787878787874\n",
      "-0.0005714285714285716\n",
      "0.001245238095238095\n",
      "4.640522875816986e-05\n",
      "0.0007750000000000001\n",
      "-0.0007817518248175179\n",
      "-3.2031249999999725e-05\n",
      "0.000607518796992481\n",
      "-0.0010556390977443611\n",
      "-0.0014238805970149255\n",
      "0.003881538461538461\n",
      "-0.0023251968503937006\n"
     ]
    }
   ],
   "source": [
    "# Compiles all the day-5 mean returns per meaningful word \n",
    "\n",
    "d5_mean_freturns = []\n",
    "\n",
    "for csv in d5_csv_files: # d5_csv_files is the list of csv files of day-5 fractional returns\n",
    "    mean_freturn = float(mean_freturns(csv).iloc[0])\n",
    "    d5_mean_freturns.append(mean_freturn)\n",
    "\n",
    "# print(d5_mean_freturns, len(d5_mean_freturns)) to check values\n",
    "\n",
    "for mean_freturn in d5_mean_freturns:\n",
    "    print(mean_freturn)"
   ]
  },
  {
   "cell_type": "code",
   "execution_count": 21,
   "id": "65ad8487",
   "metadata": {},
   "outputs": [
    {
     "name": "stdout",
     "output_type": "stream",
     "text": [
      "47\n"
     ]
    }
   ],
   "source": [
    "positives = [x for x in d5_mean_freturns if x > 0]\n",
    "print(len(positives))"
   ]
  },
  {
   "cell_type": "code",
   "execution_count": 22,
   "id": "d61d21cc",
   "metadata": {},
   "outputs": [
    {
     "name": "stdout",
     "output_type": "stream",
     "text": [
      "D4 Weighted Average of Averages: 0.00142173\n",
      "D5 Weighted Average of Averages: 5.63e-06\n"
     ]
    }
   ],
   "source": [
    "# Get the weighted average of the average returns \n",
    "\n",
    "d4_average_weighted_mean_freturn =  sum(ret * weight for ret, weight in zip(d4_mean_freturns, weights_4))\n",
    "d5_average_weighted_mean_freturn =  sum(ret * weight for ret, weight in zip(d5_mean_freturns, weights_5))\n",
    "\n",
    "print(f\"D4 Weighted Average of Averages: {round(d4_average_weighted_mean_freturn,8)}\")\n",
    "print(f\"D5 Weighted Average of Averages: {round(d5_average_weighted_mean_freturn,8)}\")"
   ]
  },
  {
   "cell_type": "code",
   "execution_count": 23,
   "id": "b2b27f14-fe9c-4c74-9352-ccb8a554e780",
   "metadata": {},
   "outputs": [],
   "source": [
    "# Save lists as csv\n",
    "\n",
    "d4_mean_freturns = [float(val) for val in d4_mean_freturns]\n",
    "d4_mean_freturns_arr = np.array(d4_mean_freturns)\n",
    "\n",
    "d5_mean_freturns = [float(val) for val in d5_mean_freturns]\n",
    "d5_mean_freturns_arr = np.array(d5_mean_freturns)\n",
    "np.savetxt(\"d4_mean_freturns.csv\",d4_mean_freturns_arr,delimiter=\",\")\n",
    "np.savetxt(\"d5_mean_freturns.csv\",d5_mean_freturns_arr,delimiter=\",\")"
   ]
  },
  {
   "cell_type": "markdown",
   "id": "b1c39eaf",
   "metadata": {},
   "source": [
    "## Data Exploration"
   ]
  },
  {
   "cell_type": "markdown",
   "id": "1d4dfb1d",
   "metadata": {},
   "source": [
    "### Distribution"
   ]
  },
  {
   "cell_type": "code",
   "execution_count": 24,
   "id": "fb59a6f6",
   "metadata": {},
   "outputs": [
    {
     "name": "stdout",
     "output_type": "stream",
     "text": [
      "Number of positive returns (Day 4): 91\n",
      "Number of negative returns (Day 4): 13\n",
      "Number of positive returns (Day 5): 47\n",
      "Number of negative returns (Day 5): 57\n"
     ]
    }
   ],
   "source": [
    "positive_meanret_d4 = list(filter(lambda x: x >= 0, d4_mean_freturns))\n",
    "negative_meanret_d4 = list(filter(lambda x: x < 0, d4_mean_freturns))\n",
    "\n",
    "positive_meanret_d5 = list(filter(lambda x: x >= 0, d5_mean_freturns))\n",
    "negative_meanret_d5 = list(filter(lambda x: x < 0, d5_mean_freturns))\n",
    "\n",
    "#Distribution\n",
    "\n",
    "print(f\"Number of positive returns (Day 4): {len(positive_meanret_d4)}\")\n",
    "print(f\"Number of negative returns (Day 4): {len(negative_meanret_d4)}\")\n",
    "print(f\"Number of positive returns (Day 5): {len(positive_meanret_d5)}\")\n",
    "print(f\"Number of negative returns (Day 5): {len(negative_meanret_d5)}\")"
   ]
  },
  {
   "cell_type": "markdown",
   "id": "30f6646a",
   "metadata": {},
   "source": [
    "### Average Gain and Average Loss"
   ]
  },
  {
   "cell_type": "code",
   "execution_count": 25,
   "id": "3a4447f2",
   "metadata": {},
   "outputs": [
    {
     "name": "stdout",
     "output_type": "stream",
     "text": [
      "Average Gain (Day 4): 0.001695928925414585\n",
      "Average Loss (Day 4): -0.0005338428608094259\n",
      "Average Gain (Day 5): 0.0012152591392646775\n",
      "Average Loss (Day 5): -0.0009830051778736625\n"
     ]
    }
   ],
   "source": [
    "def Average(lst): \n",
    "    return sum(lst) / len(lst) \n",
    "\n",
    "avg_mgain_4 = Average(positive_meanret_d4)\n",
    "avg_mloss_4 = Average(negative_meanret_d4)\n",
    "avg_mgain_5 = Average(positive_meanret_d5)\n",
    "avg_mloss_5 = Average(negative_meanret_d5)\n",
    "\n",
    "print(f\"Average Gain (Day 4): {avg_mgain_4}\")\n",
    "print(f\"Average Loss (Day 4): {avg_mloss_4}\")\n",
    "print(f\"Average Gain (Day 5): {avg_mgain_5}\")\n",
    "print(f\"Average Loss (Day 5): {avg_mloss_5}\")"
   ]
  },
  {
   "cell_type": "markdown",
   "id": "003d5f56",
   "metadata": {},
   "source": [
    "## Probability of Gain and Loss"
   ]
  },
  {
   "cell_type": "code",
   "execution_count": 30,
   "id": "93bd5a57",
   "metadata": {},
   "outputs": [
    {
     "name": "stdout",
     "output_type": "stream",
     "text": [
      "Probability of Gain (a stock being traded on day 4): 0.875\n",
      "Probability of Gain (a stock being traded on day 5): 0.125\n",
      "Probability of Loss (a stock being traded on day 4): 0.4519230769230769\n",
      "Probability of Loss (a stock being traded on day 5): 0.4519230769230769\n"
     ]
    }
   ],
   "source": [
    "prob_mgain_4 = len(positive_meanret_d4)/len(d4_mean_freturns)\n",
    "prob_mloss_4 = len(negative_meanret_d4)/len(d4_mean_freturns)\n",
    "\n",
    "prob_mgain_5 = len(positive_meanret_d5)/len(d5_mean_freturns)\n",
    "prob_mloss_5 = len(positive_meanret_d5)/len(d5_mean_freturns)\n",
    "\n",
    "print(f\"Probability of Gain (a stock being traded on day 4): {prob_mgain_4}\")\n",
    "print(f\"Probability of Gain (a stock being traded on day 5): {prob_mloss_4}\")\n",
    "print(f\"Probability of Loss (a stock being traded on day 4): {prob_mgain_5}\")\n",
    "print(f\"Probability of Loss (a stock being traded on day 5): {prob_mloss_5}\")"
   ]
  },
  {
   "cell_type": "code",
   "execution_count": 32,
   "id": "1773ca9c",
   "metadata": {},
   "outputs": [],
   "source": [
    "# Function that outputs (frequency) histogram of weekly Day-4 and Day-5 returns of sequences\n",
    "def histogram_weekly4(csv_path):\n",
    "    data_path = os.path.join(os.getcwd(), csv_path)\n",
    "    df1 = pd.read_csv(data_path, header = None)\n",
    "    \n",
    "    df1_max = float(df1.max())\n",
    "    df1_min = float(df1.min())\n",
    "    \n",
    "    n1 = df1.count()\n",
    "    \n",
    "    df1_bins = (df1_max - df1_min)/math.sqrt(n1)\n",
    "    \n",
    "    df1_binwidth = df1_bins\n",
    "    \n",
    "    df1_xbins = np.arange(df1_min, df1_max + df1_binwidth, df1_binwidth)\n",
    "    \n",
    "    plt.xlim(-0.005,0.005)\n",
    "    \n",
    "    plt.xlabel('Mean Fractional Returns')\n",
    "    plt.ylabel('Frequency')\n",
    "    \n",
    "    plt.hist(df1, bins=df1_xbins, density=False, alpha=0.5, color='r', edgecolor='red')\n",
    "    \n",
    "    plt.savefig('G1 D4 Mean Freturns.jpg')\n",
    "    \n",
    "    data = {\n",
    "    \"Fractional Return\": [\"Day 4\"],\n",
    "    \"Average Return\": [float(df1.mean())],\n",
    "    \"Standard Deviation\": [float(df1.std())]\n",
    "    }\n",
    "\n",
    "    df = pd.DataFrame(data)\n",
    "    \n",
    "    return df"
   ]
  },
  {
   "cell_type": "code",
   "execution_count": 33,
   "id": "fc43824b-61f6-491d-bbd6-9fa03e18abd1",
   "metadata": {},
   "outputs": [
    {
     "data": {
      "text/html": [
       "<div>\n",
       "<style scoped>\n",
       "    .dataframe tbody tr th:only-of-type {\n",
       "        vertical-align: middle;\n",
       "    }\n",
       "\n",
       "    .dataframe tbody tr th {\n",
       "        vertical-align: top;\n",
       "    }\n",
       "\n",
       "    .dataframe thead th {\n",
       "        text-align: right;\n",
       "    }\n",
       "</style>\n",
       "<table border=\"1\" class=\"dataframe\">\n",
       "  <thead>\n",
       "    <tr style=\"text-align: right;\">\n",
       "      <th></th>\n",
       "      <th>Fractional Return</th>\n",
       "      <th>Average Return</th>\n",
       "      <th>Standard Deviation</th>\n",
       "    </tr>\n",
       "  </thead>\n",
       "  <tbody>\n",
       "    <tr>\n",
       "      <th>0</th>\n",
       "      <td>Day 4</td>\n",
       "      <td>0.001417</td>\n",
       "      <td>0.001173</td>\n",
       "    </tr>\n",
       "  </tbody>\n",
       "</table>\n",
       "</div>"
      ],
      "text/plain": [
       "  Fractional Return  Average Return  Standard Deviation\n",
       "0             Day 4        0.001417            0.001173"
      ]
     },
     "execution_count": 33,
     "metadata": {},
     "output_type": "execute_result"
    },
    {
     "data": {
      "image/png": "[encoded data removed]",
      "text/plain": [
       "<Figure size 640x480 with 1 Axes>"
      ]
     },
     "metadata": {},
     "output_type": "display_data"
    }
   ],
   "source": [
    "histogram_weekly4('d4_mean_freturns.csv')"
   ]
  },
  {
   "cell_type": "code",
   "execution_count": 34,
   "id": "5daa7285",
   "metadata": {},
   "outputs": [],
   "source": [
    "# Function that outputs (frequency) histogram of weekly Day-4 and Day-5 returns of sequences\n",
    "def histogram_weekly5(csv_path):\n",
    "    data_path = os.path.join(os.getcwd(), csv_path)\n",
    "    df1 = pd.read_csv(data_path, header = None)\n",
    "    \n",
    "    df1_max = float(df1.max())\n",
    "    df1_min = float(df1.min())\n",
    "    \n",
    "    n1 = df1.count()\n",
    "    \n",
    "    df1_bins = (df1_max - df1_min)/math.sqrt(n1)\n",
    "    \n",
    "    df1_binwidth = df1_bins\n",
    "    \n",
    "    df1_xbins = np.arange(df1_min, df1_max + df1_binwidth, df1_binwidth)\n",
    "    \n",
    "    plt.xlim(-0.005,0.005)\n",
    "    \n",
    "    plt.xlabel('Mean Fractional Returns')\n",
    "    plt.ylabel('Frequency')\n",
    "    \n",
    "    plt.hist(df1, bins=df1_xbins, density=False, alpha=0.5, color='b', edgecolor='blue')\n",
    "    \n",
    "    plt.savefig('G1 D5 Mean Freturns.jpg')\n",
    "    \n",
    "    data = {\n",
    "    \"Fractional Return\": [\"Day 4\"],\n",
    "    \"Average Return\": [float(df1.mean())],\n",
    "    \"Standard Deviation\": [float(df1.std())]\n",
    "    }\n",
    "\n",
    "    df = pd.DataFrame(data)\n",
    "    \n",
    "    return df"
   ]
  },
  {
   "cell_type": "code",
   "execution_count": 35,
   "id": "be37505b",
   "metadata": {},
   "outputs": [
    {
     "data": {
      "text/html": [
       "<div>\n",
       "<style scoped>\n",
       "    .dataframe tbody tr th:only-of-type {\n",
       "        vertical-align: middle;\n",
       "    }\n",
       "\n",
       "    .dataframe tbody tr th {\n",
       "        vertical-align: top;\n",
       "    }\n",
       "\n",
       "    .dataframe thead th {\n",
       "        text-align: right;\n",
       "    }\n",
       "</style>\n",
       "<table border=\"1\" class=\"dataframe\">\n",
       "  <thead>\n",
       "    <tr style=\"text-align: right;\">\n",
       "      <th></th>\n",
       "      <th>Fractional Return</th>\n",
       "      <th>Average Return</th>\n",
       "      <th>Standard Deviation</th>\n",
       "    </tr>\n",
       "  </thead>\n",
       "  <tbody>\n",
       "    <tr>\n",
       "      <th>0</th>\n",
       "      <td>Day 4</td>\n",
       "      <td>0.00001</td>\n",
       "      <td>0.001354</td>\n",
       "    </tr>\n",
       "  </tbody>\n",
       "</table>\n",
       "</div>"
      ],
      "text/plain": [
       "  Fractional Return  Average Return  Standard Deviation\n",
       "0             Day 4         0.00001            0.001354"
      ]
     },
     "execution_count": 35,
     "metadata": {},
     "output_type": "execute_result"
    },
    {
     "data": {
      "image/png": "[encoded data removed]",
      "text/plain": [
       "<Figure size 640x480 with 1 Axes>"
      ]
     },
     "metadata": {},
     "output_type": "display_data"
    }
   ],
   "source": [
    "histogram_weekly5('d5_mean_freturns.csv')"
   ]
  }
 ],
 "metadata": {
  "kernelspec": {
   "display_name": "Python 3 (ipykernel)",
   "language": "python",
   "name": "python3"
  },
  "language_info": {
   "codemirror_mode": {
    "name": "ipython",
    "version": 3
   },
   "file_extension": ".py",
   "mimetype": "text/x-python",
   "name": "python",
   "nbconvert_exporter": "python",
   "pygments_lexer": "ipython3",
   "version": "3.10.9"
  }
 },
 "nbformat": 4,
 "nbformat_minor": 5
}
