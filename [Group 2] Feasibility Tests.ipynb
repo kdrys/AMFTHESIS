{
 "cells": [
  {
   "cell_type": "markdown",
   "id": "51cd0f9f",
   "metadata": {},
   "source": [
    "##  One-letter Words"
   ]
  },
  {
   "cell_type": "code",
   "execution_count": 1,
   "id": "93f1ab3c",
   "metadata": {},
   "outputs": [],
   "source": [
    "# open the csv files\n",
    "GTCAP = open('GTCAP.csv')\n",
    "AGI = open('AGI.csv')\n",
    "SM = open('SM.csv')\n",
    "MER = open('MER.csv')\n",
    "ALI = open('ALI.csv')\n",
    "SECB = open('SECB.csv')\n",
    "MBT = open('MBT.csv')\n",
    "TEL = open('TEL.csv')\n",
    "URC = open('URC.csv')\n",
    "PGOLD = open('PGOLD.csv')\n",
    "\n",
    "#initialize the lists\n",
    "Date_GTCAP = []\n",
    "ClosePrice_GTCAP = []\n",
    "Date_AGI = []\n",
    "ClosePrice_AGI = []\n",
    "Date_SM = []\n",
    "ClosePrice_SM = []\n",
    "Date_MER = []\n",
    "ClosePrice_MER = []\n",
    "Date_ALI = []\n",
    "ClosePrice_ALI = []\n",
    "Date_SECB = []\n",
    "ClosePrice_SECB = []\n",
    "Date_MBT = []\n",
    "ClosePrice_MBT = []\n",
    "Date_TEL = []\n",
    "ClosePrice_TEL = []\n",
    "Date_URC = []\n",
    "ClosePrice_URC = []\n",
    "Date_PGOLD = []\n",
    "ClosePrice_PGOLD = []\n",
    "\n",
    "#skip the header line\n",
    "GTCAP.readline()\n",
    "AGI.readline()\n",
    "SM.readline()\n",
    "MER.readline()\n",
    "ALI.readline()\n",
    "SECB.readline()\n",
    "MBT.readline()\n",
    "TEL.readline()\n",
    "URC.readline()\n",
    "PGOLD.readline()\n",
    "\n",
    "#go through the files line by line\n",
    "for line in GTCAP:\n",
    "    sline = line.strip().split(',')\n",
    "    Date_GTCAP.append(sline[0])\n",
    "    ClosePrice_GTCAP.append(float(sline[1]))\n",
    "    \n",
    "for line in AGI:\n",
    "    sline = line.strip().split(',')\n",
    "    Date_AGI.append(sline[0])\n",
    "    ClosePrice_AGI.append(float(sline[1]))\n",
    "    \n",
    "for line in SM:\n",
    "    sline = line.strip().split(',')\n",
    "    Date_SM.append(sline[0])\n",
    "    ClosePrice_SM.append(float(sline[1]))\n",
    "    \n",
    "for line in MER:\n",
    "    sline = line.strip().split(',')\n",
    "    Date_MER.append(sline[0])\n",
    "    ClosePrice_MER.append(float(sline[1]))\n",
    "    \n",
    "for line in ALI:\n",
    "    sline = line.strip().split(',')\n",
    "    Date_ALI.append(sline[0])\n",
    "    ClosePrice_ALI.append(float(sline[1]))\n",
    "    \n",
    "for line in SECB:\n",
    "    sline = line.strip().split(',')\n",
    "    Date_SECB.append(sline[0])\n",
    "    ClosePrice_SECB.append(float(sline[1]))\n",
    "    \n",
    "for line in MBT:\n",
    "    sline = line.strip().split(',')\n",
    "    Date_MBT.append(sline[0])\n",
    "    ClosePrice_MBT.append(float(sline[1]))\n",
    "    \n",
    "for line in TEL:\n",
    "    sline = line.strip().split(',')\n",
    "    Date_TEL.append(sline[0])\n",
    "    ClosePrice_TEL.append(float(sline[1]))\n",
    "    \n",
    "for line in URC:\n",
    "    sline = line.strip().split(',')\n",
    "    Date_URC.append(sline[0])\n",
    "    ClosePrice_URC.append(float(sline[1]))\n",
    "        \n",
    "for line in PGOLD:\n",
    "    sline = line.strip().split(',')\n",
    "    Date_PGOLD.append(sline[0])\n",
    "    ClosePrice_PGOLD.append(float(sline[1]))\n",
    "\n",
    "\n",
    "#close files\n",
    "GTCAP.close()\n",
    "AGI.close()\n",
    "SM.close()\n",
    "MER.close()\n",
    "ALI.close()\n",
    "SECB.close()\n",
    "MBT.close()\n",
    "TEL.close()\n",
    "URC.close()\n",
    "PGOLD.close()"
   ]
  },
  {
   "cell_type": "code",
   "execution_count": 2,
   "id": "e3fa5f91",
   "metadata": {},
   "outputs": [],
   "source": [
    "import numpy as np\n",
    "import datetime"
   ]
  },
  {
   "cell_type": "code",
   "execution_count": 3,
   "id": "22c51e2f",
   "metadata": {},
   "outputs": [],
   "source": [
    "# convert dates into datetime structure\n",
    "for n in range(len(Date_GTCAP)):\n",
    "    Date_GTCAP[n] = datetime.datetime.strptime(Date_GTCAP[n], '%m/%d/%y').date()\n",
    "\n",
    "for n in range(len(Date_AGI)):\n",
    "    Date_AGI[n] = datetime.datetime.strptime(Date_AGI[n], '%m/%d/%y').date()\n",
    "    \n",
    "for n in range(len(Date_SM)):\n",
    "    Date_SM[n] = datetime.datetime.strptime(Date_SM[n], '%m/%d/%y').date()\n",
    "\n",
    "for n in range(len(Date_MER)):\n",
    "    Date_MER[n] = datetime.datetime.strptime(Date_MER[n], '%m/%d/%y').date()\n",
    "    \n",
    "for n in range(len(Date_ALI)):\n",
    "    Date_ALI[n] = datetime.datetime.strptime(Date_ALI[n], '%m/%d/%y').date()\n",
    "\n",
    "for n in range(len(Date_SECB)):\n",
    "    Date_SECB[n] = datetime.datetime.strptime(Date_SECB[n], '%m/%d/%y').date()\n",
    "    \n",
    "for n in range(len(Date_MBT)):\n",
    "    Date_MBT[n] = datetime.datetime.strptime(Date_MBT[n], '%m/%d/%y').date()\n",
    "\n",
    "for n in range(len(Date_TEL)):\n",
    "    Date_TEL[n] = datetime.datetime.strptime(Date_TEL[n], '%m/%d/%y').date()\n",
    "    \n",
    "for n in range(len(Date_URC)):\n",
    "    Date_URC[n] = datetime.datetime.strptime(Date_URC[n], '%m/%d/%y').date()\n",
    "\n",
    "for n in range(len(Date_PGOLD)):\n",
    "    Date_PGOLD[n] = datetime.datetime.strptime(Date_PGOLD[n], '%m/%d/%y').date()\n",
    "    \n",
    "# save Date and ClosePrice\n",
    "np.save('GTCAPDate.npy', Date_GTCAP)\n",
    "np.save('GTCAPClosePrice.npy', ClosePrice_GTCAP)\n",
    "np.save('AGIDate.npy', Date_AGI)\n",
    "np.save('AGIClosePrice.npy', ClosePrice_AGI)\n",
    "np.save('SMDate.npy', Date_SM)\n",
    "np.save('SMClosePrice.npy', ClosePrice_SM)\n",
    "np.save('MERDate.npy', Date_MER)\n",
    "np.save('MERClosePrice.npy', ClosePrice_MER)\n",
    "np.save('ALIDate.npy', Date_ALI)\n",
    "np.save('ALIClosePrice.npy', ClosePrice_ALI)\n",
    "np.save('SECBDate.npy', Date_SECB)\n",
    "np.save('SECBClosePrice.npy', ClosePrice_SECB)\n",
    "np.save('MBTDate.npy', Date_MBT)\n",
    "np.save('MBTClosePrice.npy', ClosePrice_MBT)\n",
    "np.save('TELDate.npy', Date_TEL)\n",
    "np.save('TELClosePrice.npy', ClosePrice_TEL)\n",
    "np.save('URCDate.npy', Date_URC)\n",
    "np.save('URCClosePrice.npy', ClosePrice_URC)\n",
    "np.save('PGOLDDate.npy', Date_PGOLD)\n",
    "np.save('PGOLDClosePrice.npy', ClosePrice_PGOLD)"
   ]
  },
  {
   "cell_type": "markdown",
   "id": "4e8da853",
   "metadata": {},
   "source": [
    "### Feasibility Test"
   ]
  },
  {
   "cell_type": "markdown",
   "id": "97983ad6",
   "metadata": {},
   "source": [
    "#### Fractional Returns"
   ]
  },
  {
   "cell_type": "code",
   "execution_count": 4,
   "id": "ed4c5c18",
   "metadata": {},
   "outputs": [],
   "source": [
    "def get_d4_frac_returns(np1,np2,np3,np4):\n",
    "    \"\"\"\n",
    "    Given a significant sequence A-B-C-D-E, gets all the day 4 fractional returns of stock D\n",
    "        given a price increase on stocks A,B,C on days 1,2, and 3, respectively.\n",
    "    \n",
    "    Parameters\n",
    "    ----------\n",
    "    np1 : numpy\n",
    "        contains the list of closing prices of stock A\n",
    "    np2 : numpy\n",
    "        contains the list of closing prices of stock B\n",
    "    np3 : numpy\n",
    "        contains the list of closing prices of stock C\n",
    "    np4 : numpy\n",
    "        contains the list of closing prices of stock D\n",
    "    \n",
    "    Returns\n",
    "    -------\n",
    "    list (of float)\n",
    "    \n",
    "    \"\"\"\n",
    "    \n",
    "    # initialize lists and counter\n",
    "    d3_prices = []\n",
    "    d4_prices = []\n",
    "    n = 1\n",
    "    while n < len(np1)-3:\n",
    "        sc = ''\n",
    "        if np1[n] > np1[n-1]:\n",
    "            sc = sc + 'x'\n",
    "        if np2[n+1] > np2[n]:\n",
    "            sc = sc + 'y'\n",
    "        if np3[n+2] > np3[n+1]:\n",
    "            sc = sc + 'z' \n",
    "        if len(sc) == 3:\n",
    "            d3_prices.append(np4[n+2])\n",
    "            d4_prices.append(np4[n+3])\n",
    "        else:\n",
    "            pass\n",
    "        n = n+1\n",
    "    \n",
    "    freturns4 = []\n",
    "    for i in range(len(d3_prices)):\n",
    "        returns4 = round((d4_prices[i]-d3_prices[i]) / d3_prices[i],4)\n",
    "        freturns4.append(returns4)\n",
    "    \n",
    "    return freturns4"
   ]
  },
  {
   "cell_type": "code",
   "execution_count": 5,
   "id": "a63f2354",
   "metadata": {},
   "outputs": [],
   "source": [
    "def get_d5_frac_returns(np1,np2,np3,np4,np5):\n",
    "    \"\"\"\n",
    "    Given a significant sequence A-B-C-D-E, gets all the day 5 fractional returns of stock E\n",
    "        given a price increase on stocks A,B,C,D on days 1,2,3, and 4, respectively.\n",
    "    \n",
    "    Parameters\n",
    "    ----------\n",
    "    np1 : numpy\n",
    "        contains the list of closing prices of stock A\n",
    "    np2 : numpy\n",
    "        contains the list of closing prices of stock B\n",
    "    np3 : numpy\n",
    "        contains the list of closing prices of stock C\n",
    "    np4 : numpy\n",
    "        contains the list of closing prices of stock D\n",
    "    np5 : numpy\n",
    "        contains the list of closing prices of stock E\n",
    "    \n",
    "    Returns\n",
    "    -------\n",
    "    list (of float)\n",
    "    \n",
    "    \"\"\"\n",
    "    \n",
    "    # initialize lists and counter\n",
    "    d4_prices = []\n",
    "    d5_prices = []\n",
    "    n = 1\n",
    "    while n < len(np1)-4:\n",
    "        sc = ''\n",
    "        if np1[n] > np1[n-1]:\n",
    "            sc = sc + 'w'\n",
    "        if np2[n+1] > np2[n]:\n",
    "            sc = sc + 'x'\n",
    "        if np3[n+2] > np3[n+1]:\n",
    "            sc = sc + 'y' \n",
    "        if np4[n+3] > np4[n+2]:\n",
    "            sc = sc + 'z'\n",
    "        if len(sc) == 4:\n",
    "            d4_prices.append(np5[n+3])\n",
    "            d5_prices.append(np5[n+4])\n",
    "        else:\n",
    "            pass\n",
    "        n = n+1\n",
    "    \n",
    "    freturns5 = []\n",
    "    for i in range(len(d4_prices)):\n",
    "        returns5 = round((d5_prices[i]-d4_prices[i]) / d4_prices[i],4)\n",
    "        freturns5.append(returns5)\n",
    "    \n",
    "    return freturns5"
   ]
  },
  {
   "cell_type": "code",
   "execution_count": 6,
   "id": "91429b3f",
   "metadata": {},
   "outputs": [],
   "source": [
    "def frac_returns(np1,np2,np3,np4,np5,types):\n",
    "    \"\"\"\n",
    "    \n",
    "    \"\"\"\n",
    "    if types == 0:\n",
    "        freturns = get_d4_frac_returns(np1, np2, np3, np4)\n",
    "        weight = len(freturns) / 30029\n",
    "        weights_4.append(weight)\n",
    "    elif types == 1:\n",
    "        freturns = get_d5_frac_returns(np1, np2, np3, np4, np5)\n",
    "        weight = len(freturns) / 14315\n",
    "        weights_5.append(weight)\n",
    "        \n",
    "    else:\n",
    "        print(\"Wrong Inputs\")\n",
    "    \n",
    "    return freturns, weight"
   ]
  },
  {
   "cell_type": "markdown",
   "id": "e54b074b",
   "metadata": {},
   "source": [
    "### Ten-Letter Words"
   ]
  },
  {
   "cell_type": "code",
   "execution_count": 7,
   "id": "3762924c",
   "metadata": {},
   "outputs": [],
   "source": [
    "#extract the overlapping dates\n",
    "\n",
    "start = max(min(Date_GTCAP), min(Date_AGI), min(Date_SM), min(Date_MER), min(Date_ALI),min(Date_SECB),min(Date_MBT),min(Date_TEL),min(Date_URC),min(Date_PGOLD))\n",
    "end = min(max(Date_GTCAP), max(Date_AGI), max(Date_SM), max(Date_MER), max(Date_ALI),max(Date_SECB),max(Date_MBT),max(Date_TEL),max(Date_URC),max(Date_PGOLD))"
   ]
  },
  {
   "cell_type": "code",
   "execution_count": 8,
   "id": "05d01780",
   "metadata": {},
   "outputs": [],
   "source": [
    "# standardize lengths of time series and save shortened versions of closing prices\n",
    "N = min(len(Date_GTCAP), len(Date_AGI), len(Date_SM), len(Date_MER), len(Date_ALI), len(Date_SECB), len(Date_MBT), len(Date_TEL), len(Date_URC), len(Date_PGOLD))\n",
    "\n",
    "L = np.save('GTCAPshortPrices.npy', ClosePrice_GTCAP[-N::])\n",
    "C = np.save('AGIshortPrices.npy', ClosePrice_AGI[-N::])\n",
    "β = np.save('SMshortPrices.npy', ClosePrice_SM[-N::])\n",
    "Q = np.save('MERshortPrices.npy', ClosePrice_MER[-N::])\n",
    "E = np.save('ALIshortPrices.npy', ClosePrice_ALI[-N::])\n",
    "Z = np.save('SECBshortPrices.npy', ClosePrice_SECB[-N::])\n",
    "T = np.save('MBTshortPrices.npy', ClosePrice_MBT[-N::])\n",
    "V = np.save('TELshortPrices.npy', ClosePrice_TEL[-N::])\n",
    "ε = np.save('URCshortPrices.npy', ClosePrice_URC[-N::])\n",
    "W = np.save('PGOLDshortPrices.npy', ClosePrice_PGOLD[-N::])"
   ]
  },
  {
   "cell_type": "code",
   "execution_count": 9,
   "id": "27c0d489",
   "metadata": {},
   "outputs": [],
   "source": [
    "# import prices\n",
    "L = np.load('GTCAPshortPrices.npy', allow_pickle=True).tolist()\n",
    "C = np.load('AGIshortPrices.npy', allow_pickle=True).tolist()\n",
    "β = np.load('SMshortPrices.npy', allow_pickle=True).tolist()\n",
    "Q = np.load('MERshortPrices.npy', allow_pickle=True).tolist()\n",
    "E = np.load('ALIshortPrices.npy', allow_pickle=True).tolist()\n",
    "Z = np.load('SECBshortPrices.npy', allow_pickle=True).tolist()\n",
    "T = np.load('MBTshortPrices.npy', allow_pickle=True).tolist()\n",
    "V = np.load('TELshortPrices.npy', allow_pickle=True).tolist()\n",
    "ε = np.load('URCshortPrices.npy', allow_pickle=True).tolist()\n",
    "W = np.load('PGOLDshortPrices.npy', allow_pickle=True).tolist()"
   ]
  },
  {
   "cell_type": "code",
   "execution_count": 10,
   "id": "f7a4db7a",
   "metadata": {},
   "outputs": [],
   "source": [
    "# import dates\n",
    "L_dt = np.load('GTCAPDate.npy', allow_pickle=True).tolist()\n",
    "C_dt = np.load('AGIDate.npy', allow_pickle=True).tolist()\n",
    "β_dt = np.load('SMDate.npy', allow_pickle=True).tolist()\n",
    "Q_dt = np.load('MERDate.npy', allow_pickle=True).tolist()\n",
    "E_dt = np.load('ALIDate.npy', allow_pickle=True).tolist()\n",
    "Z_dt = np.load('SECBDate.npy', allow_pickle=True).tolist()\n",
    "T_dt = np.load('MBTDate.npy', allow_pickle=True).tolist()\n",
    "V_dt = np.load('TELDate.npy', allow_pickle=True).tolist()\n",
    "ε_dt = np.load('URCDate.npy', allow_pickle=True).tolist()\n",
    "W_dt = np.load('PGOLDDate.npy', allow_pickle=True).tolist()"
   ]
  },
  {
   "cell_type": "code",
   "execution_count": 11,
   "id": "fe187d70",
   "metadata": {},
   "outputs": [],
   "source": [
    "# extract spatio-temporal sequences\n",
    "STC = []\n",
    "st = []\n",
    "n = 1\n",
    "while n < len(L):\n",
    "    sc = ''\n",
    "    if L[n] > L[n-1]:\n",
    "        sc = sc + 'L'\n",
    "    if C[n] > C[n-1]:\n",
    "        sc = sc + 'C'\n",
    "    if β[n] > β[n-1]:\n",
    "        sc = sc + 'β'\n",
    "    if Q[n] > Q[n-1]:\n",
    "        sc = sc + 'Q'\n",
    "    if E[n] > E[n-1]:\n",
    "        sc = sc + 'E'\n",
    "    if Z[n] > Z[n-1]:\n",
    "        sc = sc + 'Z'\n",
    "    if T[n] > T[n-1]:\n",
    "        sc = sc + 'T'\n",
    "    if V[n] > V[n-1]:\n",
    "        sc = sc + 'V'\n",
    "    if ε[n] > ε[n-1]:\n",
    "        sc = sc + 'ε'\n",
    "    if W[n] > W[n-1]:\n",
    "        sc = sc + 'W'\n",
    "    if len(sc) > 0:\n",
    "        st.append(sc)\n",
    "    else:\n",
    "        STC.append(st)\n",
    "        st = []\n",
    "    n = n + 1"
   ]
  },
  {
   "cell_type": "code",
   "execution_count": 12,
   "id": "98a90dcb",
   "metadata": {},
   "outputs": [],
   "source": [
    "# record the number of empty spatio-temporal sequences\n",
    "nSTCempty = STC.count([])\n",
    "# keep only non-empty spatio-temporal sequences\n",
    "STC = [ st for st in STC if len(st) > 0 ]\n",
    "\n",
    "# record the length of the longest spatio-temporal sequence\n",
    "lmin = len(L)\n",
    "lmax = 0\n",
    "for st in STC:\n",
    "    if len(st) < lmin:\n",
    "        lmin = len(st)\n",
    "    if len(st) > lmax:\n",
    "        lmax = len(st)\n",
    "        \n",
    "# restrict spatio-temporal sequences to length-5\n",
    "STC5 = [ st for st in STC if len(st) <= 5 ]\n",
    "\n",
    "# unpack spatio-temporal sequences to temporal sequences\n",
    "TC5 = []\n",
    "for n in range(len(STC5)):\n",
    "    tc = [ u for u in STC5[n][0] ]\n",
    "    for k in range(1, len(STC5[n])):\n",
    "        tc = [ u+v for u in tc for v in STC5[n][k] ]\n",
    "    TC5 = TC5 + tc\n",
    "setTC5 = list(set(TC5))\n",
    "\n",
    "# get empirical frequencies\n",
    "fTC5 = [ TC5.count(setTC5[l]) for l in range(len(setTC5)) ]\n",
    "\n",
    "# statistical testing against null model\n",
    "np.random.seed(0) #sets a fixed seed value\n",
    "fTC5null = [ [] for l in range(len(setTC5)) ]\n",
    "for s in range(100):\n",
    "    STC5null = [ list(st) for st in STC5]\n",
    "    for st in STC5null:\n",
    "        np.random.shuffle(st)\n",
    "    TC5null = []\n",
    "    for n in range(len(STC5null)):\n",
    "        tc = [ u for u in STC5null[n][0] ]\n",
    "        for k in range(1, len(STC5null[n])):\n",
    "            tc = [ u+v for u in tc for v in STC5null[n][k] ]\n",
    "        TC5null = TC5null + tc\n",
    "    for l in range(len(setTC5)):\n",
    "        if TC5null.count(setTC5[l]) > 0:\n",
    "            fTC5null[l].append(TC5null.count(setTC5[l]))\n",
    "        else:\n",
    "            fTC5null[l].append(0)"
   ]
  },
  {
   "cell_type": "code",
   "execution_count": 13,
   "id": "0f458c54",
   "metadata": {},
   "outputs": [
    {
     "name": "stdout",
     "output_type": "stream",
     "text": [
      "Number of Empty Spatio-temporal Sequences: 10\n",
      "Number of Spatio-temporal Sequences: 113\n",
      "Number of Spatio-temporal Sequence at most length-5: 26\n",
      "Number of Temporal Sequences at most length-5: 13724\n"
     ]
    }
   ],
   "source": [
    "print(f\"Number of Empty Spatio-temporal Sequences: {nSTCempty}\")\n",
    "print(f\"Number of Spatio-temporal Sequences: {len(STC)}\")\n",
    "print(f\"Number of Spatio-temporal Sequence at most length-5: {len(STC5)}\")\n",
    "print(f\"Number of Temporal Sequences at most length-5: {len(TC5)}\")"
   ]
  },
  {
   "cell_type": "markdown",
   "id": "e0299327",
   "metadata": {},
   "source": [
    "### Fractional Returns"
   ]
  },
  {
   "cell_type": "markdown",
   "id": "042ea0ea",
   "metadata": {},
   "source": [
    "#### 1 QVZCT"
   ]
  },
  {
   "cell_type": "code",
   "execution_count": 14,
   "id": "feca266d",
   "metadata": {},
   "outputs": [],
   "source": [
    "weights_4 = []\n",
    "weights_5 = []"
   ]
  },
  {
   "cell_type": "code",
   "execution_count": 15,
   "id": "5b5c3429",
   "metadata": {},
   "outputs": [],
   "source": [
    "# Fractional Returns of AGI (Day 4) and MBT (Day 5)\n",
    "freturns4_1 = frac_returns(Q,V,Z,C,T,0)\n",
    "freturns5_1 = frac_returns(Q,V,Z,C,T,1)"
   ]
  },
  {
   "cell_type": "code",
   "execution_count": 16,
   "id": "11c505fe",
   "metadata": {},
   "outputs": [
    {
     "name": "stdout",
     "output_type": "stream",
     "text": [
      "283\n",
      "134\n"
     ]
    }
   ],
   "source": [
    "print(len(freturns4_1[0]))\n",
    "print(len(freturns5_1[0]))"
   ]
  },
  {
   "cell_type": "markdown",
   "id": "ecc57d67",
   "metadata": {},
   "source": [
    "#### 2 QLCLW"
   ]
  },
  {
   "cell_type": "code",
   "execution_count": 17,
   "id": "b3ebbfc6",
   "metadata": {},
   "outputs": [],
   "source": [
    "# Fractional Returns of GTCAP (Day 4) and PGOLD (Day 5)\n",
    "freturns4_2 = frac_returns(Q,L,C,L,W,0)\n",
    "freturns5_2 = frac_returns(Q,L,C,L,W,1)"
   ]
  },
  {
   "cell_type": "markdown",
   "id": "b0ca30b9",
   "metadata": {},
   "source": [
    "#### 3 QLZCT"
   ]
  },
  {
   "cell_type": "code",
   "execution_count": 18,
   "id": "d19667ce",
   "metadata": {},
   "outputs": [],
   "source": [
    "# Fractional Returns of AGI (Day 4) and MBT (Day 5)\n",
    "freturns4_3 = frac_returns(Q,L,Z,C,T,0)\n",
    "freturns5_3 = frac_returns(Q,L,Z,C,T,1)"
   ]
  },
  {
   "cell_type": "markdown",
   "id": "3577203d",
   "metadata": {},
   "source": [
    "#### 4 QVEZW"
   ]
  },
  {
   "cell_type": "code",
   "execution_count": 19,
   "id": "f8add836",
   "metadata": {},
   "outputs": [],
   "source": [
    "# Fractional Returns of SECB (Day 4) and PGOLD (Day 5)\n",
    "freturns4_4 = frac_returns(Q,V,E,Z,W,0)\n",
    "freturns5_4 = frac_returns(Q,V,E,Z,W,1)"
   ]
  },
  {
   "cell_type": "markdown",
   "id": "00126983",
   "metadata": {},
   "source": [
    "#### 5 QVECW"
   ]
  },
  {
   "cell_type": "code",
   "execution_count": 20,
   "id": "0f4808ca",
   "metadata": {},
   "outputs": [],
   "source": [
    "# Fractional Returns of AGI (Day 4) and PGOLD (Day 5)\n",
    "freturns4_5 = frac_returns(Q,V,E,C,W,0)\n",
    "freturns5_5 = frac_returns(Q,V,E,C,W,1)"
   ]
  },
  {
   "cell_type": "markdown",
   "id": "87506710",
   "metadata": {},
   "source": [
    "#### 6 QLEZW"
   ]
  },
  {
   "cell_type": "code",
   "execution_count": 21,
   "id": "d5d818ed",
   "metadata": {},
   "outputs": [],
   "source": [
    "# Fractional Returns of SECB (Day 4) and PGOLD (Day 5)\n",
    "freturns4_6 = frac_returns(Q,L,E,Z,W,0)\n",
    "freturns5_6 = frac_returns(Q,L,E,Z,W,1)"
   ]
  },
  {
   "cell_type": "markdown",
   "id": "6e92c4b4",
   "metadata": {},
   "source": [
    "#### 7 QLTCW"
   ]
  },
  {
   "cell_type": "code",
   "execution_count": 22,
   "id": "9597e495",
   "metadata": {},
   "outputs": [],
   "source": [
    "# Fractional Returns of AGI (Day 4) and PGOLD (Day 5)\n",
    "freturns4_7 = frac_returns(Q,L,T,C,W,0)\n",
    "freturns5_7 = frac_returns(Q,L,T,C,W,1)"
   ]
  },
  {
   "cell_type": "markdown",
   "id": "6f708a05",
   "metadata": {},
   "source": [
    "#### 8 QLεCW"
   ]
  },
  {
   "cell_type": "code",
   "execution_count": 23,
   "id": "991a7b30",
   "metadata": {},
   "outputs": [],
   "source": [
    "# Fractional Returns of AGI (Day 4) and PGOLD (Day 5)\n",
    "freturns4_8 = frac_returns(Q,L,ε,C,W,0)\n",
    "freturns5_8 = frac_returns(Q,L,ε,C,W,1)"
   ]
  },
  {
   "cell_type": "markdown",
   "id": "6b8c5ac9",
   "metadata": {},
   "source": [
    "#### 9 WVVEW"
   ]
  },
  {
   "cell_type": "code",
   "execution_count": 24,
   "id": "3f607519",
   "metadata": {},
   "outputs": [],
   "source": [
    "# Fractional Returns of ALI (Day 4) and PGOLD (Day 5)\n",
    "freturns4_9 = frac_returns(W,V,V,E,W,0)\n",
    "freturns5_9 = frac_returns(W,V,V,E,W,1)"
   ]
  },
  {
   "cell_type": "markdown",
   "id": "fda7739f",
   "metadata": {},
   "source": [
    "#### 10 TVVCW"
   ]
  },
  {
   "cell_type": "code",
   "execution_count": 25,
   "id": "ccdd55cf",
   "metadata": {},
   "outputs": [],
   "source": [
    "# Fractional Returns of AGI (Day 4) and PGOLD (Day 5)\n",
    "freturns4_10 = frac_returns(T,V,V,C,W,0)\n",
    "freturns5_10 = frac_returns(T,V,V,C,W,1)"
   ]
  },
  {
   "cell_type": "markdown",
   "id": "49b04b0e",
   "metadata": {},
   "source": [
    "#### 11 QLECT"
   ]
  },
  {
   "cell_type": "code",
   "execution_count": 26,
   "id": "2b484692",
   "metadata": {},
   "outputs": [],
   "source": [
    "# Fractional Returns of AGI (Day 4) and MBT (Day 5)\n",
    "freturns4_11 = frac_returns(Q,L,E,C,T,0)\n",
    "freturns5_11 = frac_returns(Q,L,E,C,T,1)"
   ]
  },
  {
   "cell_type": "markdown",
   "id": "9e3ad349",
   "metadata": {},
   "source": [
    "#### 12 QVCCT"
   ]
  },
  {
   "cell_type": "code",
   "execution_count": 27,
   "id": "8d804d19",
   "metadata": {},
   "outputs": [],
   "source": [
    "# Fractional Returns of AGI (Day 4) and MBT (Day 5)\n",
    "freturns4_12 = frac_returns(Q,V,C,C,T,0)\n",
    "freturns5_12 = frac_returns(Q,V,C,C,T,1)"
   ]
  },
  {
   "cell_type": "markdown",
   "id": "14280c55",
   "metadata": {},
   "source": [
    "#### 13 QEZZT"
   ]
  },
  {
   "cell_type": "code",
   "execution_count": 28,
   "id": "6ee1cf4d",
   "metadata": {},
   "outputs": [],
   "source": [
    "# Fractional Returns of SECB (Day 4) and MBT (Day 5)\n",
    "freturns4_13 = frac_returns(Q,E,Z,Z,T,0)\n",
    "freturns5_13 = frac_returns(Q,E,Z,Z,T,1)"
   ]
  },
  {
   "cell_type": "markdown",
   "id": "81c8cc57",
   "metadata": {},
   "source": [
    "#### 14 QEεCW"
   ]
  },
  {
   "cell_type": "code",
   "execution_count": 29,
   "id": "5ed3b05d",
   "metadata": {},
   "outputs": [],
   "source": [
    "# Fractional Returns of AGI (Day 4) and PGOLD (Day 5)\n",
    "freturns4_14 = frac_returns(Q,E,ε,C,W,0)\n",
    "freturns5_14 = frac_returns(Q,E,ε,C,W,1)"
   ]
  },
  {
   "cell_type": "markdown",
   "id": "458af716",
   "metadata": {},
   "source": [
    "#### 15 LεCZE"
   ]
  },
  {
   "cell_type": "code",
   "execution_count": 30,
   "id": "4bc5e2b5",
   "metadata": {},
   "outputs": [],
   "source": [
    "# Fractional Returns of SECB (Day 4) and ALI (Day 5)\n",
    "freturns4_15 = frac_returns(L,ε,C,Z,E,0)\n",
    "freturns5_15 = frac_returns(L,ε,C,Z,E,1)"
   ]
  },
  {
   "cell_type": "markdown",
   "id": "b9b8ff21",
   "metadata": {},
   "source": [
    "#### 16 QEβLW"
   ]
  },
  {
   "cell_type": "code",
   "execution_count": 31,
   "id": "73d44ef2",
   "metadata": {},
   "outputs": [],
   "source": [
    "# Fractional Returns of GTCAP (Day 4) and PGOLD (Day 5)\n",
    "freturns4_16 = frac_returns(Q,E,β,L,W,0)\n",
    "freturns5_16 = frac_returns(Q,E,β,L,W,1)"
   ]
  },
  {
   "cell_type": "markdown",
   "id": "1a76d56e",
   "metadata": {},
   "source": [
    "#### 17 QEβCW"
   ]
  },
  {
   "cell_type": "code",
   "execution_count": 32,
   "id": "73acc7f4",
   "metadata": {},
   "outputs": [],
   "source": [
    "# Fractional Returns of AGI (Day 4) and PGOLD (Day 5)\n",
    "freturns4_17 = frac_returns(Q,E,β,C,W,0)\n",
    "freturns5_17 = frac_returns(Q,E,β,C,W,1)"
   ]
  },
  {
   "cell_type": "markdown",
   "id": "196dc58d",
   "metadata": {},
   "source": [
    "#### 18 QVELW"
   ]
  },
  {
   "cell_type": "code",
   "execution_count": 33,
   "id": "3da72759",
   "metadata": {},
   "outputs": [],
   "source": [
    "# Fractional Returns of GTCAP (Day 4) and PGOLD (Day 5)\n",
    "freturns4_18 = frac_returns(Q,V,E,L,W,0)\n",
    "freturns5_18 = frac_returns(Q,V,E,L,W,1)"
   ]
  },
  {
   "cell_type": "markdown",
   "id": "bd4cb1b3",
   "metadata": {},
   "source": [
    "#### 19 LQεCT"
   ]
  },
  {
   "cell_type": "code",
   "execution_count": 34,
   "id": "66a7084c",
   "metadata": {},
   "outputs": [],
   "source": [
    "# Fractional Returns of AGI (Day 4) and MBT (Day 5)\n",
    "freturns4_19 = frac_returns(L,Q,ε,C,T,0)\n",
    "freturns5_19 = frac_returns(L,Q,ε,C,T,1)"
   ]
  },
  {
   "cell_type": "markdown",
   "id": "0bd22bb2",
   "metadata": {},
   "source": [
    "#### 20 LQZCT"
   ]
  },
  {
   "cell_type": "code",
   "execution_count": 35,
   "id": "b7b002cd",
   "metadata": {},
   "outputs": [],
   "source": [
    "# Fractional Returns of AGI (Day 4) and MBT (Day 5)\n",
    "freturns4_20 = frac_returns(L,Q,Z,C,T,0)\n",
    "freturns5_20 = frac_returns(L,Q,Z,C,T,1)"
   ]
  },
  {
   "cell_type": "markdown",
   "id": "a1baa61b",
   "metadata": {},
   "source": [
    "#### 21 WVVEV"
   ]
  },
  {
   "cell_type": "code",
   "execution_count": 36,
   "id": "1ff3d512",
   "metadata": {},
   "outputs": [],
   "source": [
    "# Fractional Returns of ALI (Day 4) and TEL (Day 5)\n",
    "freturns4_21 = frac_returns(W,V,V,E,V,0)\n",
    "freturns5_21 = frac_returns(W,V,V,E,V,1)"
   ]
  },
  {
   "cell_type": "markdown",
   "id": "6973cdc7",
   "metadata": {},
   "source": [
    "#### 22 QLELT"
   ]
  },
  {
   "cell_type": "code",
   "execution_count": 37,
   "id": "df8cbf52",
   "metadata": {},
   "outputs": [],
   "source": [
    "# Fractional Returns of GTCAP (Day 4) and MBT (Day 5)\n",
    "freturns4_22 = frac_returns(Q,L,E,L,T,0)\n",
    "freturns5_22 = frac_returns(Q,L,E,L,T,1)"
   ]
  },
  {
   "cell_type": "markdown",
   "id": "9adfe265",
   "metadata": {},
   "source": [
    "#### 23 QVZCW"
   ]
  },
  {
   "cell_type": "code",
   "execution_count": 38,
   "id": "bb6e6aa9",
   "metadata": {},
   "outputs": [],
   "source": [
    "# Fractional Returns of AGI (Day 4) and PGOLD (Day 5)\n",
    "freturns4_23 = frac_returns(Q,V,Z,C,W,0)\n",
    "freturns5_23 = frac_returns(Q,V,Z,C,W,1)"
   ]
  },
  {
   "cell_type": "markdown",
   "id": "2061d929",
   "metadata": {},
   "source": [
    "#### 24 QLZZT"
   ]
  },
  {
   "cell_type": "code",
   "execution_count": 39,
   "id": "f4e17473",
   "metadata": {},
   "outputs": [],
   "source": [
    "# Fractional Returns of SECB (Day 4) and MBT (Day 5)\n",
    "freturns4_24 = frac_returns(Q,L,Z,Z,T,0)\n",
    "freturns5_24 = frac_returns(Q,L,Z,Z,T,1)"
   ]
  },
  {
   "cell_type": "markdown",
   "id": "9bed9a4b",
   "metadata": {},
   "source": [
    "#### 25 QVβLW"
   ]
  },
  {
   "cell_type": "code",
   "execution_count": 40,
   "id": "8fe6853b",
   "metadata": {},
   "outputs": [],
   "source": [
    "# Fractional Returns of GTCAP (Day 4) and PGOLD (Day 5)\n",
    "freturns4_25 = frac_returns(Q,V,β,L,W,0)\n",
    "freturns5_25 = frac_returns(Q,V,β,L,W,1)"
   ]
  },
  {
   "cell_type": "markdown",
   "id": "250b2bcc",
   "metadata": {},
   "source": [
    "#### 26 QEZCW"
   ]
  },
  {
   "cell_type": "code",
   "execution_count": 41,
   "id": "c70f0cd8",
   "metadata": {},
   "outputs": [],
   "source": [
    "# Fractional Returns of AGI (Day 4) and PGOLD (Day 5)\n",
    "freturns4_26 = frac_returns(Q,E,Z,C,W,0)\n",
    "freturns5_26 = frac_returns(Q,E,Z,C,W,1)"
   ]
  },
  {
   "cell_type": "markdown",
   "id": "ba136e09",
   "metadata": {},
   "source": [
    "#### 27 βVVCW"
   ]
  },
  {
   "cell_type": "code",
   "execution_count": 42,
   "id": "974ff4ec",
   "metadata": {},
   "outputs": [],
   "source": [
    "# Fractional Returns of AGI (Day 4) and PGOLD (Day 5)\n",
    "freturns4_27 = frac_returns(β,V,V,C,W,0)\n",
    "freturns5_27 = frac_returns(β,V,V,C,W,1)"
   ]
  },
  {
   "cell_type": "markdown",
   "id": "f945588a",
   "metadata": {},
   "source": [
    "#### 28 βVVEV"
   ]
  },
  {
   "cell_type": "code",
   "execution_count": 43,
   "id": "b120b37d",
   "metadata": {},
   "outputs": [],
   "source": [
    "# Fractional Returns of ALI (Day 4) and TEL (Day 5)\n",
    "freturns4_28 = frac_returns(β,V,V,E,V,0)\n",
    "freturns5_28 = frac_returns(β,V,V,E,V,1)"
   ]
  },
  {
   "cell_type": "markdown",
   "id": "87684ead",
   "metadata": {},
   "source": [
    "#### 29 LQCZT"
   ]
  },
  {
   "cell_type": "code",
   "execution_count": 44,
   "id": "7f96532b",
   "metadata": {},
   "outputs": [],
   "source": [
    "# Fractional Returns of SECB (Day 4) and MBT (Day 5)\n",
    "freturns4_29 = frac_returns(L,Q,C,Z,T,0)\n",
    "freturns5_29 = frac_returns(L,Q,C,Z,T,1)"
   ]
  },
  {
   "cell_type": "markdown",
   "id": "2640254d",
   "metadata": {},
   "source": [
    "#### 30 QVVLW"
   ]
  },
  {
   "cell_type": "code",
   "execution_count": 45,
   "id": "94823a9c",
   "metadata": {},
   "outputs": [],
   "source": [
    "# Fractional Returns of GTCAP (Day 4) and PGOLD (Day 5)\n",
    "freturns4_30 = frac_returns(Q,V,V,L,W,0)\n",
    "freturns5_30 = frac_returns(Q,V,V,L,W,1)"
   ]
  },
  {
   "cell_type": "markdown",
   "id": "0c7242e0",
   "metadata": {},
   "source": [
    "#### 31 QVεLW"
   ]
  },
  {
   "cell_type": "code",
   "execution_count": 46,
   "id": "b38b1a67",
   "metadata": {},
   "outputs": [],
   "source": [
    "# Fractional Returns of GTCAP (Day 4) and PGOLD (Day 5)\n",
    "freturns4_31 = frac_returns(Q,V,ε,L,W,0)\n",
    "freturns5_31 = frac_returns(Q,V,ε,L,W,1)"
   ]
  },
  {
   "cell_type": "markdown",
   "id": "5b38f38e",
   "metadata": {},
   "source": [
    "#### 32 LQEET"
   ]
  },
  {
   "cell_type": "code",
   "execution_count": 47,
   "id": "74e2fbc7",
   "metadata": {},
   "outputs": [],
   "source": [
    "# Fractional Returns of ALI (Day 4) and MBT (Day 5)\n",
    "freturns4_32 = frac_returns(L,Q,E,E,T,0)\n",
    "freturns5_32 = frac_returns(L,Q,E,E,T,1)"
   ]
  },
  {
   "cell_type": "markdown",
   "id": "85785a47",
   "metadata": {},
   "source": [
    "#### 33 LQVCT"
   ]
  },
  {
   "cell_type": "code",
   "execution_count": 48,
   "id": "5b27a837",
   "metadata": {},
   "outputs": [],
   "source": [
    "# Fractional Returns of AGI (Day 4) and MBT (Day 5)\n",
    "freturns4_33 = frac_returns(L,Q,V,C,T,0)\n",
    "freturns5_33 = frac_returns(L,Q,V,C,T,1)"
   ]
  },
  {
   "cell_type": "markdown",
   "id": "81fda780",
   "metadata": {},
   "source": [
    "#### 34 QLZLW"
   ]
  },
  {
   "cell_type": "code",
   "execution_count": 49,
   "id": "c2e97c21",
   "metadata": {},
   "outputs": [],
   "source": [
    "# Fractional Returns of GTCAP (Day 4) and PGOLD (Day 5)\n",
    "freturns4_34 = frac_returns(Q,L,Z,L,W,0)\n",
    "freturns5_34 = frac_returns(Q,L,Z,L,W,1)"
   ]
  },
  {
   "cell_type": "markdown",
   "id": "014a1574",
   "metadata": {},
   "source": [
    "#### 35 QLZZW"
   ]
  },
  {
   "cell_type": "code",
   "execution_count": 50,
   "id": "aca2b04d",
   "metadata": {},
   "outputs": [],
   "source": [
    "# Fractional Returns of SECB (Day 4) and PGOLD (Day 5)\n",
    "freturns4_35 = frac_returns(Q,L,Z,Z,W,0)\n",
    "freturns5_35 = frac_returns(Q,L,Z,Z,W,1)"
   ]
  },
  {
   "cell_type": "markdown",
   "id": "093ec2f0",
   "metadata": {},
   "source": [
    "#### 36 QVVCW"
   ]
  },
  {
   "cell_type": "code",
   "execution_count": 51,
   "id": "fd89b503",
   "metadata": {},
   "outputs": [],
   "source": [
    "# Fractional Returns of AGI (Day 4) and PGOLD (Day 5)\n",
    "freturns4_36 = frac_returns(Q,V,V,C,W,0)\n",
    "freturns5_36 = frac_returns(Q,V,V,C,W,1)"
   ]
  },
  {
   "cell_type": "markdown",
   "id": "a9001737",
   "metadata": {},
   "source": [
    "#### 37 QLεLW"
   ]
  },
  {
   "cell_type": "code",
   "execution_count": 52,
   "id": "40124439",
   "metadata": {},
   "outputs": [],
   "source": [
    "# Fractional Returns of GTCAP (Day 4) and PGOLD (Day 5)\n",
    "freturns4_37 = frac_returns(Q,L,ε,L,W,0)\n",
    "freturns5_37 = frac_returns(Q,L,ε,L,W,1)"
   ]
  },
  {
   "cell_type": "markdown",
   "id": "1a119e69",
   "metadata": {},
   "source": [
    "#### 38 LQECT"
   ]
  },
  {
   "cell_type": "code",
   "execution_count": 53,
   "id": "0541c19f",
   "metadata": {},
   "outputs": [],
   "source": [
    "# Fractional Returns of AGI (Day 4) and MBT (Day 5)\n",
    "freturns4_38 = frac_returns(L,Q,E,C,T,0)\n",
    "freturns5_38 = frac_returns(L,Q,E,C,T,1)"
   ]
  },
  {
   "cell_type": "markdown",
   "id": "ea9c94fa",
   "metadata": {},
   "source": [
    "#### 39 QLTZW"
   ]
  },
  {
   "cell_type": "code",
   "execution_count": 54,
   "id": "ce61c50f",
   "metadata": {},
   "outputs": [],
   "source": [
    "# Fractional Returns of SECB (Day 4) and PGOLD (Day 5)\n",
    "freturns4_39 = frac_returns(Q,L,T,Z,W,0)\n",
    "freturns5_39 = frac_returns(Q,L,T,Z,W,1)"
   ]
  },
  {
   "cell_type": "markdown",
   "id": "cee49045",
   "metadata": {},
   "source": [
    "#### 40 βVVCV"
   ]
  },
  {
   "cell_type": "code",
   "execution_count": 55,
   "id": "916b7bea",
   "metadata": {},
   "outputs": [],
   "source": [
    "# Fractional Returns of AGI (Day 4) and TEL (Day 5)\n",
    "freturns4_40 = frac_returns(β,V,V,C,V,0)\n",
    "freturns5_40 = frac_returns(β,V,V,C,V,1)"
   ]
  },
  {
   "cell_type": "markdown",
   "id": "d2ad102b",
   "metadata": {},
   "source": [
    "#### 41 QVZLW"
   ]
  },
  {
   "cell_type": "code",
   "execution_count": 56,
   "id": "c0836f79",
   "metadata": {},
   "outputs": [],
   "source": [
    "# Fractional Returns of GTCAP (Day 4) and PGOLD (Day 5)\n",
    "freturns4_41 = frac_returns(Q,V,Z,L,W,0)\n",
    "freturns5_41 = frac_returns(Q,V,Z,L,W,1)"
   ]
  },
  {
   "cell_type": "markdown",
   "id": "1de146e7",
   "metadata": {},
   "source": [
    "#### 42 QECCT"
   ]
  },
  {
   "cell_type": "code",
   "execution_count": 57,
   "id": "75af11f1",
   "metadata": {},
   "outputs": [],
   "source": [
    "# Fractional Returns of GTCAP (Day 4) and PGOLD (Day 5)\n",
    "freturns4_42 = frac_returns(Q,E,C,C,T,0)\n",
    "freturns5_42 = frac_returns(Q,E,C,C,T,1)"
   ]
  },
  {
   "cell_type": "markdown",
   "id": "aa616f20",
   "metadata": {},
   "source": [
    "#### 43 QVβCW"
   ]
  },
  {
   "cell_type": "code",
   "execution_count": 58,
   "id": "eaaca6e8",
   "metadata": {},
   "outputs": [],
   "source": [
    "# Fractional Returns of AGI (Day 4) and PGOLD (Day 5)\n",
    "freturns4_43 = frac_returns(Q,V,β,C,W,0)\n",
    "freturns5_43 = frac_returns(Q,V,β,C,W,1)"
   ]
  },
  {
   "cell_type": "markdown",
   "id": "0133e583",
   "metadata": {},
   "source": [
    "#### 44 WVVCV"
   ]
  },
  {
   "cell_type": "code",
   "execution_count": 59,
   "id": "0d8a1cd8",
   "metadata": {},
   "outputs": [],
   "source": [
    "# Fractional Returns of AGI (Day 4) and TEL (Day 5)\n",
    "freturns4_44 = frac_returns(W,V,V,C,V,0)\n",
    "freturns5_44 = frac_returns(W,V,V,C,V,1)"
   ]
  },
  {
   "cell_type": "markdown",
   "id": "a397c1fa",
   "metadata": {},
   "source": [
    "####  45 QLVZW"
   ]
  },
  {
   "cell_type": "code",
   "execution_count": 60,
   "id": "9d2b8f29",
   "metadata": {},
   "outputs": [],
   "source": [
    "# Fractional Returns of SECB (Day 4) and PGOLD (Day 5)\n",
    "freturns4_45 = frac_returns(Q,L,V,Z,W,0)\n",
    "freturns5_45 = frac_returns(Q,L,V,Z,W,1)"
   ]
  },
  {
   "cell_type": "markdown",
   "id": "8a9d4bd1",
   "metadata": {},
   "source": [
    "####  46 WVVCW"
   ]
  },
  {
   "cell_type": "code",
   "execution_count": 61,
   "id": "20ff80c8",
   "metadata": {},
   "outputs": [],
   "source": [
    "# Fractional Returns of AGI (Day 4) and PGOLD (Day 5)\n",
    "freturns4_46 = frac_returns(W,V,V,C,W,0)\n",
    "freturns5_46 = frac_returns(W,V,V,C,W,1)"
   ]
  },
  {
   "cell_type": "markdown",
   "id": "2d0a65ea",
   "metadata": {},
   "source": [
    "####  47 QLCCW"
   ]
  },
  {
   "cell_type": "code",
   "execution_count": 62,
   "id": "4341dca2",
   "metadata": {},
   "outputs": [],
   "source": [
    "# Fractional Returns of AGI (Day 4) and PGOLD (Day 5)\n",
    "freturns4_47 = frac_returns(Q,L,C,C,W,0)\n",
    "freturns5_47 = frac_returns(Q,L,C,C,W,1)"
   ]
  },
  {
   "cell_type": "markdown",
   "id": "bb45d952",
   "metadata": {},
   "source": [
    "####  48 QVεCW"
   ]
  },
  {
   "cell_type": "code",
   "execution_count": 63,
   "id": "f9953ffb",
   "metadata": {},
   "outputs": [],
   "source": [
    "# Fractional Returns of AGI (Day 4) and PGOLD (Day 5)\n",
    "freturns4_48 = frac_returns(Q,V,ε,C,W,0)\n",
    "freturns5_48 = frac_returns(Q,V,ε,C,W,1)"
   ]
  },
  {
   "cell_type": "markdown",
   "id": "ee6f7cd7",
   "metadata": {},
   "source": [
    "####  49 LQεET"
   ]
  },
  {
   "cell_type": "code",
   "execution_count": 64,
   "id": "b81b136e",
   "metadata": {},
   "outputs": [],
   "source": [
    "# Fractional Returns of ALI (Day 4) and MBT (Day 5)\n",
    "freturns4_49 = frac_returns(L,Q,ε,E,T,0)\n",
    "freturns5_49 = frac_returns(L,Q,ε,E,T,1)"
   ]
  },
  {
   "cell_type": "markdown",
   "id": "751b2741",
   "metadata": {},
   "source": [
    "####  50 QLEZT"
   ]
  },
  {
   "cell_type": "code",
   "execution_count": 65,
   "id": "fb0f3099",
   "metadata": {},
   "outputs": [],
   "source": [
    "# Fractional Returns of SECB (Day 4) and MBT (Day 5)\n",
    "freturns4_50 = frac_returns(Q,L,E,Z,T,0)\n",
    "freturns5_50 = frac_returns(Q,L,E,Z,T,1)"
   ]
  },
  {
   "cell_type": "markdown",
   "id": "d8823fdd",
   "metadata": {},
   "source": [
    "####  51 QLECW"
   ]
  },
  {
   "cell_type": "code",
   "execution_count": 66,
   "id": "a5334c43",
   "metadata": {},
   "outputs": [],
   "source": [
    "# Fractional Returns of AGI (Day 4) and PGOLD (Day 5)\n",
    "freturns4_51 = frac_returns(Q,L,E,C,W,0)\n",
    "freturns5_51 = frac_returns(Q,L,E,C,W,1)"
   ]
  },
  {
   "cell_type": "markdown",
   "id": "85e1b687",
   "metadata": {},
   "source": [
    "####  52 QVVLT"
   ]
  },
  {
   "cell_type": "code",
   "execution_count": 67,
   "id": "2106e89d",
   "metadata": {},
   "outputs": [],
   "source": [
    "# Fractional Returns of GTCAP (Day 4) and MBT (Day 5)\n",
    "freturns4_52 = frac_returns(Q,V,V,L,T,0)\n",
    "freturns5_52 = frac_returns(Q,V,V,L,T,1)"
   ]
  },
  {
   "cell_type": "markdown",
   "id": "b30b313c",
   "metadata": {},
   "source": [
    "####  53 QVCZT"
   ]
  },
  {
   "cell_type": "code",
   "execution_count": 68,
   "id": "7bcfce9f",
   "metadata": {},
   "outputs": [],
   "source": [
    "# Fractional Returns of SECB (Day 4) and MBT (Day 5)\n",
    "freturns4_53 = frac_returns(Q,V,C,Z,T,0)\n",
    "freturns5_53 = frac_returns(Q,V,C,Z,T,1)"
   ]
  },
  {
   "cell_type": "markdown",
   "id": "afe7043c",
   "metadata": {},
   "source": [
    "####  54 QLCLT"
   ]
  },
  {
   "cell_type": "code",
   "execution_count": 69,
   "id": "7bd76186",
   "metadata": {},
   "outputs": [],
   "source": [
    "# Fractional Returns of GTCAP (Day 4) and MBT (Day 5)\n",
    "freturns4_54 = frac_returns(Q,L,C,L,T,0)\n",
    "freturns5_54 = frac_returns(Q,L,C,L,T,1)"
   ]
  },
  {
   "cell_type": "markdown",
   "id": "b3e01ea2",
   "metadata": {},
   "source": [
    "####  55 LQZZT"
   ]
  },
  {
   "cell_type": "code",
   "execution_count": 70,
   "id": "6d34d165",
   "metadata": {},
   "outputs": [],
   "source": [
    "# Fractional Returns of SECB (Day 4) and MBT (Day 5)\n",
    "freturns4_55 = frac_returns(L,Q,Z,Z,T,0)\n",
    "freturns5_55 = frac_returns(L,Q,Z,Z,T,1)"
   ]
  },
  {
   "cell_type": "markdown",
   "id": "e8550843",
   "metadata": {},
   "source": [
    "####  56 QLTLT"
   ]
  },
  {
   "cell_type": "code",
   "execution_count": 71,
   "id": "deab6031",
   "metadata": {},
   "outputs": [],
   "source": [
    "# Fractional Returns of GTCAP (Day 4) and MBT (Day 5)\n",
    "freturns4_56 = frac_returns(Q,L,T,L,T,0)\n",
    "freturns5_56 = frac_returns(Q,L,T,L,T,1)"
   ]
  },
  {
   "cell_type": "markdown",
   "id": "414a82df",
   "metadata": {},
   "source": [
    "####  57 QECLW"
   ]
  },
  {
   "cell_type": "code",
   "execution_count": 72,
   "id": "309d77c1",
   "metadata": {},
   "outputs": [],
   "source": [
    "# Fractional Returns of GTCAP (Day 4) and PGOLD (Day 5)\n",
    "freturns4_57 = frac_returns(Q,E,C,L,W,0)\n",
    "freturns5_57 = frac_returns(Q,E,C,L,W,1)"
   ]
  },
  {
   "cell_type": "markdown",
   "id": "998550f3",
   "metadata": {},
   "source": [
    "####  58 QEZCT"
   ]
  },
  {
   "cell_type": "code",
   "execution_count": 73,
   "id": "259baea9",
   "metadata": {},
   "outputs": [],
   "source": [
    "# Fractional Returns of AGI (Day 4) and MBT (Day 5)\n",
    "freturns4_58 = frac_returns(Q,E,Z,C,T,0)\n",
    "freturns5_58 = frac_returns(Q,E,Z,C,T,1)"
   ]
  },
  {
   "cell_type": "markdown",
   "id": "aac562cf",
   "metadata": {},
   "source": [
    "####  59 QEεZT"
   ]
  },
  {
   "cell_type": "code",
   "execution_count": 74,
   "id": "e50de749",
   "metadata": {},
   "outputs": [],
   "source": [
    "# Fractional Returns of SECB (Day 4) and MBT (Day 5)\n",
    "freturns4_59 = frac_returns(Q,E,ε,Z,T,0)\n",
    "freturns5_59 = frac_returns(Q,E,ε,Z,T,1)"
   ]
  },
  {
   "cell_type": "markdown",
   "id": "f378d44a",
   "metadata": {},
   "source": [
    "####  60 LεCCE"
   ]
  },
  {
   "cell_type": "code",
   "execution_count": 75,
   "id": "d768d16f",
   "metadata": {},
   "outputs": [],
   "source": [
    "# Fractional Returns of AGI (Day 4) and ALI (Day 5)\n",
    "freturns4_60 = frac_returns(L,ε,C,C,E,0)\n",
    "freturns5_60 = frac_returns(L,ε,C,C,E,1)"
   ]
  },
  {
   "cell_type": "markdown",
   "id": "f1620c3e",
   "metadata": {},
   "source": [
    "####  61 QVβLT"
   ]
  },
  {
   "cell_type": "code",
   "execution_count": 76,
   "id": "979b7c70",
   "metadata": {},
   "outputs": [],
   "source": [
    "# Fractional Returns of GTCAP (Day 4) and MBT (Day 5)\n",
    "freturns4_61 = frac_returns(Q,V,β,L,T,0)\n",
    "freturns5_61 = frac_returns(Q,V,β,L,T,1)"
   ]
  },
  {
   "cell_type": "markdown",
   "id": "89b4ac7a",
   "metadata": {},
   "source": [
    "####  62 QLVLT"
   ]
  },
  {
   "cell_type": "code",
   "execution_count": 77,
   "id": "24ac426f",
   "metadata": {},
   "outputs": [],
   "source": [
    "# Fractional Returns of GTCAP (Day 4) and MBT (Day 5)\n",
    "freturns4_62 = frac_returns(Q,L,V,L,T,0)\n",
    "freturns5_62 = frac_returns(Q,L,V,L,T,1)"
   ]
  },
  {
   "cell_type": "markdown",
   "id": "2b7244dc",
   "metadata": {},
   "source": [
    "####  63 QECZT"
   ]
  },
  {
   "cell_type": "code",
   "execution_count": 78,
   "id": "52f71dab",
   "metadata": {},
   "outputs": [],
   "source": [
    "# Fractional Returns of SECB (Day 4) and MBT (Day 5)\n",
    "freturns4_63 = frac_returns(Q,E,C,Z,T,0)\n",
    "freturns5_63 = frac_returns(Q,E,C,Z,T,1)"
   ]
  },
  {
   "cell_type": "markdown",
   "id": "d989a743",
   "metadata": {},
   "source": [
    "####  64 QECCW"
   ]
  },
  {
   "cell_type": "code",
   "execution_count": 79,
   "id": "f0bd04b6",
   "metadata": {},
   "outputs": [],
   "source": [
    "# Fractional Returns of AGI (Day 4) and PGOLD (Day 5)\n",
    "freturns4_64 = frac_returns(Q,E,C,C,W,0)\n",
    "freturns5_64 = frac_returns(Q,E,C,C,W,1)"
   ]
  },
  {
   "cell_type": "markdown",
   "id": "262e64f0",
   "metadata": {},
   "source": [
    "####  65 QVEZT"
   ]
  },
  {
   "cell_type": "code",
   "execution_count": 80,
   "id": "9d80361d",
   "metadata": {},
   "outputs": [],
   "source": [
    "# Fractional Returns of SECB (Day 4) and MBT (Day 5)\n",
    "freturns4_65 = frac_returns(Q,V,E,Z,T,0)\n",
    "freturns5_65 = frac_returns(Q,V,E,Z,T,1)"
   ]
  },
  {
   "cell_type": "markdown",
   "id": "dcd8a125",
   "metadata": {},
   "source": [
    "####  66 QVZLT"
   ]
  },
  {
   "cell_type": "code",
   "execution_count": 81,
   "id": "582c1f76",
   "metadata": {},
   "outputs": [],
   "source": [
    "# Fractional Returns of GTCAP (Day 4) and MBT (Day 5)\n",
    "freturns4_66 = frac_returns(Q,V,Z,L,T,0)\n",
    "freturns5_66 = frac_returns(Q,V,Z,L,T,1)"
   ]
  },
  {
   "cell_type": "markdown",
   "id": "62886a5a",
   "metadata": {},
   "source": [
    "####  67 QLTLW"
   ]
  },
  {
   "cell_type": "code",
   "execution_count": 82,
   "id": "cf4bda1e",
   "metadata": {},
   "outputs": [],
   "source": [
    "# Fractional Returns of GTCAP (Day 4) and PGOLD (Day 5)\n",
    "freturns4_67 = frac_returns(Q,L,T,L,W,0)\n",
    "freturns5_67 = frac_returns(Q,L,T,L,W,1)"
   ]
  },
  {
   "cell_type": "markdown",
   "id": "2b56c36d",
   "metadata": {},
   "source": [
    "####  68 QLβLT"
   ]
  },
  {
   "cell_type": "code",
   "execution_count": 83,
   "id": "135468fa",
   "metadata": {},
   "outputs": [],
   "source": [
    "# Fractional Returns of GTCAP (Day 4) and MBT (Day 5)\n",
    "freturns4_68 = frac_returns(Q,L,β,L,T,0)\n",
    "freturns5_68 = frac_returns(Q,L,β,L,T,1)"
   ]
  },
  {
   "cell_type": "markdown",
   "id": "0f6f2675",
   "metadata": {},
   "source": [
    "####  69 LQZET"
   ]
  },
  {
   "cell_type": "code",
   "execution_count": 84,
   "id": "05d4d2e9",
   "metadata": {},
   "outputs": [],
   "source": [
    "# Fractional Returns of ALI (Day 4) and MBT (Day 5)\n",
    "freturns4_69 = frac_returns(L,Q,Z,E,T,0)\n",
    "freturns5_69 = frac_returns(L,Q,Z,E,T,1)"
   ]
  },
  {
   "cell_type": "markdown",
   "id": "ccfc662c",
   "metadata": {},
   "source": [
    "####  70 QLεZW"
   ]
  },
  {
   "cell_type": "code",
   "execution_count": 85,
   "id": "7b8e0614",
   "metadata": {},
   "outputs": [],
   "source": [
    "# Fractional Returns of SECB (Day 4) and PGOLD (Day 5)\n",
    "freturns4_70 = frac_returns(Q,L,ε,Z,W,0)\n",
    "freturns5_70 = frac_returns(Q,L,ε,Z,W,1)"
   ]
  },
  {
   "cell_type": "markdown",
   "id": "8e6dca0d",
   "metadata": {},
   "source": [
    "####  71 LZCCE"
   ]
  },
  {
   "cell_type": "code",
   "execution_count": 86,
   "id": "e18220a8",
   "metadata": {},
   "outputs": [],
   "source": [
    "# Fractional Returns of AGI (Day 4) and ALI (Day 5)\n",
    "freturns4_71 = frac_returns(L,Z,C,C,E,0)\n",
    "freturns5_71 = frac_returns(L,Z,C,C,E,1)"
   ]
  },
  {
   "cell_type": "markdown",
   "id": "d6ee99ae",
   "metadata": {},
   "source": [
    "####  72 QLCZW"
   ]
  },
  {
   "cell_type": "code",
   "execution_count": 87,
   "id": "4f24e0c7",
   "metadata": {},
   "outputs": [],
   "source": [
    "# Fractional Returns of SECB (Day 4) and PGOLD (Day 5)\n",
    "freturns4_72 = frac_returns(Q,L,C,Z,W,0)\n",
    "freturns5_72 = frac_returns(Q,L,C,Z,W,1)"
   ]
  },
  {
   "cell_type": "markdown",
   "id": "a9e6ed51",
   "metadata": {},
   "source": [
    "####  73 QLεCT"
   ]
  },
  {
   "cell_type": "code",
   "execution_count": 88,
   "id": "2cee6909",
   "metadata": {},
   "outputs": [],
   "source": [
    "# Fractional Returns of AGI (Day 4) and MBT (Day 5)\n",
    "freturns4_73 = frac_returns(Q,L,ε,C,T,0)\n",
    "freturns5_73 = frac_returns(Q,L,ε,C,T,1)"
   ]
  },
  {
   "cell_type": "markdown",
   "id": "0bca72f5",
   "metadata": {},
   "source": [
    "####  74 QVECT"
   ]
  },
  {
   "cell_type": "code",
   "execution_count": 89,
   "id": "ef60ab3f",
   "metadata": {},
   "outputs": [],
   "source": [
    "# Fractional Returns of AGI (Day 4) and MBT (Day 5)\n",
    "freturns4_74 = frac_returns(Q,V,E,C,T,0)\n",
    "freturns5_74 = frac_returns(Q,V,E,C,T,1)"
   ]
  },
  {
   "cell_type": "markdown",
   "id": "d1212d59",
   "metadata": {},
   "source": [
    "####  75 QLCZT"
   ]
  },
  {
   "cell_type": "code",
   "execution_count": 90,
   "id": "a01e5130",
   "metadata": {},
   "outputs": [],
   "source": [
    "# Fractional Returns of SECB (Day 4) and MBT (Day 5)\n",
    "freturns4_75 = frac_returns(Q,L,C,Z,T,0)\n",
    "freturns5_75 = frac_returns(Q,L,C,Z,T,1)"
   ]
  },
  {
   "cell_type": "markdown",
   "id": "8241a1ec",
   "metadata": {},
   "source": [
    "####  76 LQQZT"
   ]
  },
  {
   "cell_type": "code",
   "execution_count": 91,
   "id": "53a8d1a3",
   "metadata": {},
   "outputs": [],
   "source": [
    "# Fractional Returns of SECB (Day 4) and MBT (Day 5)\n",
    "freturns4_76 = frac_returns(L,Q,Q,Z,T,0)\n",
    "freturns5_76 = frac_returns(L,Q,Q,Z,T,1)"
   ]
  },
  {
   "cell_type": "markdown",
   "id": "8fd7e070",
   "metadata": {},
   "source": [
    "####  77 LQCCT"
   ]
  },
  {
   "cell_type": "code",
   "execution_count": 92,
   "id": "17679a43",
   "metadata": {},
   "outputs": [],
   "source": [
    "# Fractional Returns of AGI (Day 4) and MBT (Day 5)\n",
    "freturns4_77 = frac_returns(L,Q,C,C,T,0)\n",
    "freturns5_77 = frac_returns(L,Q,C,C,T,1)"
   ]
  },
  {
   "cell_type": "markdown",
   "id": "d07e08a7",
   "metadata": {},
   "source": [
    "####  78 QVCLT"
   ]
  },
  {
   "cell_type": "code",
   "execution_count": 93,
   "id": "0d60fe12",
   "metadata": {},
   "outputs": [],
   "source": [
    "# Fractional Returns of GTCAP (Day 4) and MBT (Day 5)\n",
    "freturns4_78 = frac_returns(Q,V,C,L,T,0)\n",
    "freturns5_78 = frac_returns(Q,V,C,L,T,1)"
   ]
  },
  {
   "cell_type": "markdown",
   "id": "84db3fd3",
   "metadata": {},
   "source": [
    "####  79 QEεCT"
   ]
  },
  {
   "cell_type": "code",
   "execution_count": 94,
   "id": "83030724",
   "metadata": {},
   "outputs": [],
   "source": [
    "# Fractional Returns of AGI (Day 4) and MBT (Day 5)\n",
    "freturns4_79 = frac_returns(Q,E,ε,C,T,0)\n",
    "freturns5_79 = frac_returns(Q,E,ε,C,T,1)"
   ]
  },
  {
   "cell_type": "markdown",
   "id": "f4643500",
   "metadata": {},
   "source": [
    "####  80 QLεZT"
   ]
  },
  {
   "cell_type": "code",
   "execution_count": 95,
   "id": "58459b8f",
   "metadata": {},
   "outputs": [],
   "source": [
    "# Fractional Returns of SECB (Day 4) and MBT (Day 5)\n",
    "freturns4_80 = frac_returns(Q,L,ε,Z,T,0)\n",
    "freturns5_80 = frac_returns(Q,L,ε,Z,T,1)"
   ]
  },
  {
   "cell_type": "markdown",
   "id": "4ae147c6",
   "metadata": {},
   "source": [
    "####  81 QVεZT"
   ]
  },
  {
   "cell_type": "code",
   "execution_count": 96,
   "id": "d29bca29",
   "metadata": {},
   "outputs": [],
   "source": [
    "# Fractional Returns of SECB (Day 4) and MBT (Day 5)\n",
    "freturns4_81 = frac_returns(Q,V,ε,Z,T,0)\n",
    "freturns5_81 = frac_returns(Q,V,ε,Z,T,1)"
   ]
  },
  {
   "cell_type": "markdown",
   "id": "a785c412",
   "metadata": {},
   "source": [
    "####  82 QLβCW"
   ]
  },
  {
   "cell_type": "code",
   "execution_count": 97,
   "id": "536e8d5d",
   "metadata": {},
   "outputs": [],
   "source": [
    "# Fractional Returns of AGI (Day 4) and PGOLD (Day 5)\n",
    "freturns4_82 = frac_returns(Q,L,β,C,W,0)\n",
    "freturns5_82 = frac_returns(Q,L,β,C,W,1)"
   ]
  },
  {
   "cell_type": "markdown",
   "id": "4b3555fc",
   "metadata": {},
   "source": [
    "####  83 QVεLT"
   ]
  },
  {
   "cell_type": "code",
   "execution_count": 98,
   "id": "50d6e6d9",
   "metadata": {},
   "outputs": [],
   "source": [
    "# Fractional Returns of GTCAP (Day 4) and MBT (Day 5)\n",
    "freturns4_83 = frac_returns(Q,V,ε,L,T,0)\n",
    "freturns5_83 = frac_returns(Q,V,ε,L,T,1)"
   ]
  },
  {
   "cell_type": "markdown",
   "id": "49aa4f2c",
   "metadata": {},
   "source": [
    "####  84 QVεCT"
   ]
  },
  {
   "cell_type": "code",
   "execution_count": 99,
   "id": "6a3db598",
   "metadata": {},
   "outputs": [],
   "source": [
    "# Fractional Returns of AGI (Day 4) and MBT (Day 5)\n",
    "freturns4_84 = frac_returns(Q,V,ε,C,T,0)\n",
    "freturns5_84 = frac_returns(Q,V,ε,C,T,1)"
   ]
  },
  {
   "cell_type": "markdown",
   "id": "c3b91d66",
   "metadata": {},
   "source": [
    "####  85 QLZLT"
   ]
  },
  {
   "cell_type": "code",
   "execution_count": 100,
   "id": "f1fed824",
   "metadata": {},
   "outputs": [],
   "source": [
    "# Fractional Returns of GTCAP (Day 4) and MBT (Day 5)\n",
    "freturns4_85 = frac_returns(Q,L,Z,L,T,0)\n",
    "freturns5_85 = frac_returns(Q,L,Z,L,T,1)"
   ]
  },
  {
   "cell_type": "markdown",
   "id": "1c32f3b2",
   "metadata": {},
   "source": [
    "####  86 QLELW"
   ]
  },
  {
   "cell_type": "code",
   "execution_count": 101,
   "id": "b6456f51",
   "metadata": {},
   "outputs": [],
   "source": [
    "# Fractional Returns of GTCAP (Day 4) and PGOLD (Day 5)\n",
    "freturns4_86 = frac_returns(Q,L,E,L,W,0)\n",
    "freturns5_86 = frac_returns(Q,L,E,L,W,1)"
   ]
  },
  {
   "cell_type": "markdown",
   "id": "0a69e289",
   "metadata": {},
   "source": [
    "####  87 QLεLT"
   ]
  },
  {
   "cell_type": "code",
   "execution_count": 102,
   "id": "d339dcd0",
   "metadata": {},
   "outputs": [],
   "source": [
    "# Fractional Returns of GTCAP (Day 4) and MBT (Day 5)\n",
    "freturns4_87 = frac_returns(Q,L,ε,L,T,0)\n",
    "freturns5_87 = frac_returns(Q,L,ε,L,T,1)"
   ]
  },
  {
   "cell_type": "markdown",
   "id": "1f507a03",
   "metadata": {},
   "source": [
    "####  88 QVCCW"
   ]
  },
  {
   "cell_type": "code",
   "execution_count": 103,
   "id": "e76e95e4",
   "metadata": {},
   "outputs": [],
   "source": [
    "# Fractional Returns of AGI (Day 4) and PGOLD (Day 5)\n",
    "freturns4_88 = frac_returns(Q,V,C,C,W,0)\n",
    "freturns5_88 = frac_returns(Q,V,C,C,W,1)"
   ]
  },
  {
   "cell_type": "markdown",
   "id": "1275221f",
   "metadata": {},
   "source": [
    "####  89 QLVLW"
   ]
  },
  {
   "cell_type": "code",
   "execution_count": 104,
   "id": "af5e8e32",
   "metadata": {},
   "outputs": [],
   "source": [
    "# Fractional Returns of GTCAP (Day 4) and PGOLD (Day 5)\n",
    "freturns4_89 = frac_returns(Q,L,V,L,W,0)\n",
    "freturns5_89 = frac_returns(Q,L,V,L,W,1)"
   ]
  },
  {
   "cell_type": "markdown",
   "id": "2ae550e0",
   "metadata": {},
   "source": [
    "####  90 LQEZT"
   ]
  },
  {
   "cell_type": "code",
   "execution_count": 105,
   "id": "412a3388",
   "metadata": {},
   "outputs": [],
   "source": [
    "# Fractional Returns of SECB (Day 4) and MBT (Day 5)\n",
    "freturns4_90 = frac_returns(L,Q,E,Z,T,0)\n",
    "freturns5_90 = frac_returns(L,Q,E,Z,T,1)"
   ]
  },
  {
   "cell_type": "markdown",
   "id": "f4cb0eaf",
   "metadata": {},
   "source": [
    "####  91 QVCLW"
   ]
  },
  {
   "cell_type": "code",
   "execution_count": 106,
   "id": "526d2e35",
   "metadata": {},
   "outputs": [],
   "source": [
    "# Fractional Returns of GTCAP (Day 4) and PGOLD (Day 5)\n",
    "freturns4_91 = frac_returns(Q,V,C,L,W,0)\n",
    "freturns5_91 = frac_returns(Q,V,C,L,W,1)"
   ]
  },
  {
   "cell_type": "markdown",
   "id": "7acab0ad",
   "metadata": {},
   "source": [
    "####  92 TVVEW"
   ]
  },
  {
   "cell_type": "code",
   "execution_count": 107,
   "id": "b355b2be",
   "metadata": {},
   "outputs": [],
   "source": [
    "# Fractional Returns of ALI (Day 4) and PGOLD (Day 5)\n",
    "freturns4_92 = frac_returns(T,V,V,E,W,0)\n",
    "freturns5_92 = frac_returns(T,V,V,E,W,1)"
   ]
  },
  {
   "cell_type": "markdown",
   "id": "33e65912",
   "metadata": {},
   "source": [
    "####  93 LQεZT"
   ]
  },
  {
   "cell_type": "code",
   "execution_count": 108,
   "id": "8385454b",
   "metadata": {},
   "outputs": [],
   "source": [
    "# Fractional Returns of SECB (Day 4) and MBT (Day 5)\n",
    "freturns4_93 = frac_returns(L,Q,ε,Z,T,0)\n",
    "freturns5_93 = frac_returns(L,Q,ε,Z,T,1)"
   ]
  },
  {
   "cell_type": "markdown",
   "id": "4ec4d21c",
   "metadata": {},
   "source": [
    "####  94 QLCCT"
   ]
  },
  {
   "cell_type": "code",
   "execution_count": 109,
   "id": "6e4bf448",
   "metadata": {},
   "outputs": [],
   "source": [
    "# Fractional Returns of AGI (Day 4) and MBT (Day 5)\n",
    "freturns4_94 = frac_returns(Q,L,C,C,T,0)\n",
    "freturns5_94 = frac_returns(Q,L,C,C,T,1)"
   ]
  },
  {
   "cell_type": "markdown",
   "id": "feb81ddc",
   "metadata": {},
   "source": [
    "####  95 LQQCT"
   ]
  },
  {
   "cell_type": "code",
   "execution_count": 110,
   "id": "ca133e2b",
   "metadata": {},
   "outputs": [],
   "source": [
    "# Fractional Returns of AGI (Day 4) and MBT (Day 5)\n",
    "freturns4_95 = frac_returns(L,Q,Q,C,T,0)\n",
    "freturns5_95 = frac_returns(L,Q,Q,C,T,1)"
   ]
  },
  {
   "cell_type": "markdown",
   "id": "1ffb1c80",
   "metadata": {},
   "source": [
    "####  96 QLZCW"
   ]
  },
  {
   "cell_type": "code",
   "execution_count": 111,
   "id": "d4461011",
   "metadata": {},
   "outputs": [],
   "source": [
    "# Fractional Returns of AGI (Day 4) and PGOLD (Day 5)\n",
    "freturns4_96 = frac_returns(Q,L,Z,C,W,0)\n",
    "freturns5_96 = frac_returns(Q,L,Z,C,W,1)"
   ]
  },
  {
   "cell_type": "markdown",
   "id": "deda1ccd",
   "metadata": {},
   "source": [
    "####  97 βVVEW"
   ]
  },
  {
   "cell_type": "code",
   "execution_count": 112,
   "id": "347d0736",
   "metadata": {},
   "outputs": [],
   "source": [
    "# Fractional Returns of ALI (Day 4) and PGOLD (Day 5)\n",
    "freturns4_97 = frac_returns(β,V,V,E,W,0)\n",
    "freturns5_97 = frac_returns(β,V,V,E,W,1)"
   ]
  },
  {
   "cell_type": "markdown",
   "id": "6044d7e9",
   "metadata": {},
   "source": [
    "####  98 QVELT"
   ]
  },
  {
   "cell_type": "code",
   "execution_count": 113,
   "id": "5758dbe9",
   "metadata": {},
   "outputs": [],
   "source": [
    "# Fractional Returns of GTCAP (Day 4) and MBT (Day 5)\n",
    "freturns4_98 = frac_returns(Q,V,E,L,T,0)\n",
    "freturns5_98 = frac_returns(Q,V,E,L,T,1)"
   ]
  },
  {
   "cell_type": "markdown",
   "id": "8ab50b57",
   "metadata": {},
   "source": [
    "####  99 TVVCV"
   ]
  },
  {
   "cell_type": "code",
   "execution_count": 114,
   "id": "636c44ad",
   "metadata": {},
   "outputs": [],
   "source": [
    "# Fractional Returns of AGI (Day 4) and TEL (Day 5)\n",
    "freturns4_99 = frac_returns(T,V,V,C,V,0)\n",
    "freturns5_99 = frac_returns(T,V,V,C,V,1)"
   ]
  },
  {
   "cell_type": "markdown",
   "id": "d145e98c",
   "metadata": {},
   "source": [
    "####  100 QLVCW"
   ]
  },
  {
   "cell_type": "code",
   "execution_count": 115,
   "id": "bc2b0ca4",
   "metadata": {},
   "outputs": [],
   "source": [
    "# Fractional Returns of AGI (Day 4) and PGOLD (Day 5)\n",
    "freturns4_100 = frac_returns(Q,L,V,C,W,0)\n",
    "freturns5_100 = frac_returns(Q,L,V,C,W,1)"
   ]
  },
  {
   "cell_type": "markdown",
   "id": "fe728f17",
   "metadata": {},
   "source": [
    "####  101 QVZZT"
   ]
  },
  {
   "cell_type": "code",
   "execution_count": 116,
   "id": "3c414112",
   "metadata": {},
   "outputs": [],
   "source": [
    "# Fractional Returns of SECB (Day 4) and MBT (Day 5)\n",
    "freturns4_101 = frac_returns(Q,V,Z,Z,T,0)\n",
    "freturns5_101 = frac_returns(Q,V,Z,Z,T,1)"
   ]
  },
  {
   "cell_type": "markdown",
   "id": "1c9901b8",
   "metadata": {},
   "source": [
    "####  102 QLβZW"
   ]
  },
  {
   "cell_type": "code",
   "execution_count": 117,
   "id": "b2d23679",
   "metadata": {},
   "outputs": [],
   "source": [
    "# Fractional Returns of SECB (Day 4) and PGOLD (Day 5)\n",
    "freturns4_102 = frac_returns(Q,L,β,Z,W,0)\n",
    "freturns5_102 = frac_returns(Q,L,β,Z,W,1)"
   ]
  },
  {
   "cell_type": "markdown",
   "id": "446dcec1",
   "metadata": {},
   "source": [
    "####  103 LQCET"
   ]
  },
  {
   "cell_type": "code",
   "execution_count": 118,
   "id": "30965f68",
   "metadata": {},
   "outputs": [],
   "source": [
    "# Fractional Returns of ALI (Day 4) and MBT (Day 5)\n",
    "freturns4_103 = frac_returns(L,Q,C,E,T,0)\n",
    "freturns5_103 = frac_returns(L,Q,C,E,T,1)"
   ]
  },
  {
   "cell_type": "markdown",
   "id": "3c7ebe6e",
   "metadata": {},
   "source": [
    "####  104 QLβLW"
   ]
  },
  {
   "cell_type": "code",
   "execution_count": 119,
   "id": "fe704f0c",
   "metadata": {},
   "outputs": [],
   "source": [
    "# Fractional Returns of GTCAP (Day 4) and PGOLD (Day 5)\n",
    "freturns4_104 = frac_returns(Q,L,β,L,W,0)\n",
    "freturns5_104 = frac_returns(Q,L,β,L,W,1)"
   ]
  },
  {
   "cell_type": "markdown",
   "id": "d105ad00",
   "metadata": {},
   "source": [
    "### Save weights as files"
   ]
  },
  {
   "cell_type": "code",
   "execution_count": 120,
   "id": "ce1c255f",
   "metadata": {},
   "outputs": [],
   "source": [
    "#Run this after going though ALL sequences\n",
    "\n",
    "weights_4_arr = np.array(weights_4)\n",
    "weights_5_arr = np.array(weights_5)\n",
    "\n",
    "np.savetxt(\"weights4.csv\",weights_4_arr,delimiter=\",\")\n",
    "np.savetxt(\"weights5.csv\",weights_5_arr,delimiter=\",\")"
   ]
  }
 ],
 "metadata": {
  "kernelspec": {
   "display_name": "Python 3 (ipykernel)",
   "language": "python",
   "name": "python3"
  },
  "language_info": {
   "codemirror_mode": {
    "name": "ipython",
    "version": 3
   },
   "file_extension": ".py",
   "mimetype": "text/x-python",
   "name": "python",
   "nbconvert_exporter": "python",
   "pygments_lexer": "ipython3",
   "version": "3.10.9"
  }
 },
 "nbformat": 4,
 "nbformat_minor": 5
}
