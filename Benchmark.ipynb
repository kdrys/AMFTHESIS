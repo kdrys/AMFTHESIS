{
 "cells": [
  {
   "cell_type": "code",
   "execution_count": 106,
   "id": "b6498f8c",
   "metadata": {},
   "outputs": [],
   "source": [
    "import os\n",
    "import pandas as pd\n",
    "\n",
    "data_path1 = os.path.join(os.getcwd(), \"Group1.1.csv\")\n",
    "data_path2 = os.path.join(os.getcwd(), \"Group2.1.csv\")\n",
    "data_path3 = os.path.join(os.getcwd(), \"Group3.1.csv\")"
   ]
  },
  {
   "cell_type": "code",
   "execution_count": 107,
   "id": "a4728001",
   "metadata": {},
   "outputs": [],
   "source": [
    "Group1 = pd.read_csv(data_path1)\n",
    "Group2 = pd.read_csv(data_path2)\n",
    "Group3 = pd.read_csv(data_path3)"
   ]
  },
  {
   "cell_type": "code",
   "execution_count": 108,
   "id": "5ed6d894",
   "metadata": {},
   "outputs": [],
   "source": [
    "Group1.dropna(subset=['Close'], inplace=True)\n",
    "Group2.dropna(subset=['Close'], inplace=True)\n",
    "Group3.dropna(subset=['Close'], inplace=True)"
   ]
  },
  {
   "cell_type": "code",
   "execution_count": 109,
   "id": "cdd2361f",
   "metadata": {},
   "outputs": [],
   "source": [
    "Group1 = Group1.values.tolist()\n",
    "Group2 = Group2.values.tolist()\n",
    "Group3 = Group3.values.tolist()"
   ]
  },
  {
   "cell_type": "markdown",
   "id": "3ac7b9d0",
   "metadata": {},
   "source": [
    "### Take the average of the daily stock market index per year"
   ]
  },
  {
   "cell_type": "code",
   "execution_count": 110,
   "id": "225c7770",
   "metadata": {},
   "outputs": [],
   "source": [
    "from datetime import datetime\n",
    "\n",
    "def group_by_year(data):\n",
    "    yearly_price = {} #dictionary that stores the 'grouped' data by year\n",
    "\n",
    "    for date_str, price in data:\n",
    "        # Convert the date string to a datetime object\n",
    "        date = datetime.strptime(date_str, \"%Y-%m-%d\")\n",
    "        year = date.year\n",
    "\n",
    "        if year not in yearly_price:\n",
    "            yearly_price[year] = []\n",
    "\n",
    "        yearly_price[year].append(price)\n",
    "\n",
    "    # Calculate the average price for each group\n",
    "    annual_averages = {}\n",
    "    for year, prices in yearly_price.items():\n",
    "        annual_averages[year] = sum(prices) / len(prices)\n",
    "\n",
    "    return annual_averages"
   ]
  },
  {
   "cell_type": "code",
   "execution_count": 111,
   "id": "12ffb76e",
   "metadata": {},
   "outputs": [],
   "source": [
    "annual_avg1 = group_by_year(Group1)\n",
    "annual_avg2 = group_by_year(Group2)\n",
    "annual_avg3 = group_by_year(Group3)"
   ]
  },
  {
   "cell_type": "markdown",
   "id": "8bf67484",
   "metadata": {},
   "source": [
    "### YoY Growth Rates"
   ]
  },
  {
   "cell_type": "code",
   "execution_count": 112,
   "id": "d814a6eb",
   "metadata": {},
   "outputs": [],
   "source": [
    "def calculate_year_on_year_growth(data):\n",
    "    # Sort the years in ascending order\n",
    "    years = sorted(data.keys())\n",
    "\n",
    "    # Calculate year-on-year growth rates\n",
    "    growth_rates = {}\n",
    "    for i in range(1, len(years)):\n",
    "        current_year = years[i]\n",
    "        previous_year = years[i - 1]\n",
    "        current_value = data[current_year]\n",
    "        previous_value = data[previous_year]\n",
    "        growth_rate = ((current_value - previous_value) / previous_value) * 100\n",
    "        growth_rates[current_year] = growth_rate\n",
    "\n",
    "    return growth_rates"
   ]
  },
  {
   "cell_type": "code",
   "execution_count": 114,
   "id": "420de91e",
   "metadata": {},
   "outputs": [],
   "source": [
    "growth_rates1 = calculate_year_on_year_growth(annual_avg1)\n",
    "growth_rates2 = calculate_year_on_year_growth(annual_avg2)\n",
    "growth_rates3 = calculate_year_on_year_growth(annual_avg3)"
   ]
  },
  {
   "cell_type": "code",
   "execution_count": 115,
   "id": "7eea59ce",
   "metadata": {},
   "outputs": [],
   "source": [
    "average_growth_rate1 = sum(growth_rates1.values()) / len(growth_rates1)\n",
    "average_growth_rate2 = sum(growth_rates2.values()) / len(growth_rates2)\n",
    "average_growth_rate3 = sum(growth_rates3.values()) / len(growth_rates3)"
   ]
  },
  {
   "cell_type": "code",
   "execution_count": 118,
   "id": "8578c5d4",
   "metadata": {},
   "outputs": [
    {
     "name": "stdout",
     "output_type": "stream",
     "text": [
      "7.593529093046156 2.620280660771738 5.272094383869149\n"
     ]
    }
   ],
   "source": [
    "print(average_growth_rate1, average_growth_rate2, average_growth_rate3)"
   ]
  }
 ],
 "metadata": {
  "kernelspec": {
   "display_name": "Python 3 (ipykernel)",
   "language": "python",
   "name": "python3"
  },
  "language_info": {
   "codemirror_mode": {
    "name": "ipython",
    "version": 3
   },
   "file_extension": ".py",
   "mimetype": "text/x-python",
   "name": "python",
   "nbconvert_exporter": "python",
   "pygments_lexer": "ipython3",
   "version": "3.10.9"
  }
 },
 "nbformat": 4,
 "nbformat_minor": 5
}
